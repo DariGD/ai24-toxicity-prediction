{
 "cells": [
  {
   "cell_type": "markdown",
   "metadata": {},
   "source": [
    "# Подготовка исходного датасета"
   ]
  },
  {
   "cell_type": "code",
   "execution_count": 1,
   "metadata": {},
   "outputs": [],
   "source": [
    "# Эагрузка файла, предварительно скачанного с PubChem \n",
    "# по ссылке https://pubchem.ncbi.nlm.nih.gov/#query=PubChem%20Compound%20TOC%3A%20Toxicity\n",
    "# Ссылка - это поиск по фразе 'PubChem Compound TOC: Toxicity', \n",
    "# выдает (предположительно) вещества, где в описании секция Toxicity не пустая\n",
    "import pandas as pd\n",
    "df = pd.read_csv(r'../data/raw/pubchem/PubChem_compound_cache_hcIgmJxu-dLO_HHl8504zfcrnUtTnzWLT64ux1S_PMZUpgA.csv')"
   ]
  },
  {
   "cell_type": "code",
   "execution_count": 2,
   "metadata": {},
   "outputs": [],
   "source": [
    "# В моем файле дефект - лишний пробел в начале, поэтому \n",
    "# переименуем ' cid' в 'cid'\n",
    "df = df.rename(columns={' cid': 'cid'})"
   ]
  },
  {
   "cell_type": "code",
   "execution_count": 104,
   "metadata": {},
   "outputs": [],
   "source": [
    "# создадим пустой датафрейм для приема запрошенных данных\n",
    "toxicity_data = pd.DataFrame(\n",
    "    {\n",
    "        \"cid\": pd.Series(dtype=\"int64\"),\n",
    "        \"status_code\": pd.Series(dtype=\"int16\"),\n",
    "        \"toxicity_data_info\": pd.Series(dtype=\"object\"),\n",
    "        \"toxicity_data_value\": pd.Series(dtype=\"object\"),\n",
    "    }\n",
    ")\n",
    "\n",
    "# заготовим пустые строки с номерами CID \n",
    "toxicity_data['cid'] = df.cid   "
   ]
  },
  {
   "cell_type": "markdown",
   "metadata": {},
   "source": [
    "# Загрузка через API"
   ]
  },
  {
   "cell_type": "markdown",
   "metadata": {},
   "source": [
    "### Версия загрузки 0.1.1 (устарело)"
   ]
  },
  {
   "cell_type": "code",
   "execution_count": 315,
   "metadata": {},
   "outputs": [],
   "source": [
    "import random\n",
    "import time\n",
    "import logging\n",
    "# чтобы это сработало, предварительно выполнить в корне проекта\n",
    "# $ pip install .\n",
    "from datasets.pubchem import pubchem as pc \n",
    "import pandas as pd"
   ]
  },
  {
   "cell_type": "code",
   "execution_count": null,
   "metadata": {},
   "outputs": [],
   "source": [
    "toxicity_data = pd.read_csv(r'../data/raw/pubchem/toxicity_data.csv')\n",
    "\n",
    "start = 0\n",
    "stop = 118040 # это максимальный номер в скачанном файле\n",
    "\n",
    "# version 0.1.1 - если было 404 по версии 0.1.0, то повторный запрос всей секции Toxicity и сохранение всего отвеа\n",
    "\n",
    "for index, row in toxicity_data.loc[start:stop].iterrows():\n",
    "    if row['status_code'] in [200]:\n",
    "        continue\n",
    "    else:\n",
    "        try:\n",
    "            res = pc.get_toxicity_data(row['cid'])\n",
    "            if res.is_success:\n",
    "                toxicity_data.at[index, 'status_code'] = int(res.status_code)\n",
    "                toxicity_data.at[index, 'toxicity_data_info'] = res.json()\n",
    "                toxicity_data.at[index, 'toxicity_data_value'] = [pc.get_toxicity_data_value(res.json())]\n",
    "                toxicity_data.at[index, 'version'] = '0.1.0'\n",
    "            else:\n",
    "                res = pc.get_toxicity_data(row['cid'], full_toxicity_data=True)\n",
    "                if res.is_success:\n",
    "                    toxicity_data.at[index, 'status_code'] = int(res.status_code)\n",
    "                    toxicity_data.at[index, 'toxicity_data_info'] = res.json()\n",
    "                    # TODO: нужна функция разбора всей секции Toxicity и сохранения всех вхождений LD/LC\n",
    "                    # toxicity_data.at[index, 'toxicity_data_value'] = [ ]\n",
    "                    toxicity_data.at[index, 'version'] = '0.1.1'\n",
    "\n",
    "            print(f\"{index}/{stop}: cid={row['cid']}, {res.status_code}\")\n",
    "        except Exception as e:\n",
    "            toxicity_data.at[index, 'status_code'] = 0\n",
    "            toxicity_data.at[index, 'toxicity_data_info'] = None\n",
    "            toxicity_data.at[index, 'toxicity_data_value'] = None\n",
    "            logging.error(f\"{index}/{stop}: cid={row['cid']}: {e}\")\n",
    "    if index % 10000 == 0:\n",
    "        toxicity_data.to_csv(f'../data/raw/pubchem/toxicity_data_index-0.1.0-{index}.csv', index=False)\n",
    "    time.sleep(random.random()/4+0.2)"
   ]
  },
  {
   "cell_type": "markdown",
   "metadata": {},
   "source": [
    "### Отладка загрузки"
   ]
  },
  {
   "cell_type": "code",
   "execution_count": 45,
   "metadata": {},
   "outputs": [],
   "source": [
    "import pandas as pd\n",
    "td = pd.read_csv(\"../data/raw/pubchem/toxicity_data_index-0.1.0-10000.csv\")"
   ]
  },
  {
   "cell_type": "code",
   "execution_count": 46,
   "metadata": {},
   "outputs": [],
   "source": [
    "import json\n",
    "\n",
    "def find_string_elements(json_data, patterns=[\"ld50\", \"ldlo\", \"lc50\", \"td50\", \"bcf\"]):\n",
    "  \"\"\"\n",
    "  Находит все элементы с ключом \"String\", значения которых содержат \"LD50\" или \"LC50\".\n",
    "\n",
    "  Args:\n",
    "    json_data: JSON-данные для анализа.\n",
    "    patterns: Список шаблонов для поиска. По умолчанию: [\"ld50\", \"ldlo\", \"lc50\", \"td50\", \"bcf\"]\n",
    "  Returns:\n",
    "    list: Список элементов, удовлетворяющих условию.\n",
    "  \"\"\"\n",
    "  results = []\n",
    "\n",
    "  def search(data):\n",
    "    if isinstance(data, dict):\n",
    "      for key, value in data.items():\n",
    "        if key == \"String\" and any(pattern in value.lower() for pattern in patterns):\n",
    "          results.append(value)\n",
    "        elif isinstance(value, (dict, list)):\n",
    "          search(value)\n",
    "    elif isinstance(data, list):\n",
    "      for item in data:\n",
    "        search(item)\n",
    "\n",
    "  search(json_data)\n",
    "  return results\n"
   ]
  },
  {
   "cell_type": "code",
   "execution_count": 70,
   "metadata": {},
   "outputs": [],
   "source": [
    "import pandas as pd\n",
    "from datasets.pubchem import pubchem as pc \n",
    "r = pc.get_toxicity_data(935, full_toxicity_data=True)"
   ]
  },
  {
   "cell_type": "code",
   "execution_count": 71,
   "metadata": {},
   "outputs": [],
   "source": [
    "json_data = json.loads(r.text)  \n",
    "patterns = [\"ld50\", \"ldlo\", \"lc50\", \"td50\", \"bcf\"]\n",
    "results = find_string_elements(r.json(), patterns)\n",
    "\n",
    "for result in results:\n",
    "  print(result)"
   ]
  },
  {
   "cell_type": "code",
   "execution_count": null,
   "metadata": {},
   "outputs": [],
   "source": [
    "r.json()"
   ]
  }
 ],
 "metadata": {
  "kernelspec": {
   "display_name": ".venv",
   "language": "python",
   "name": "python3"
  },
  "language_info": {
   "codemirror_mode": {
    "name": "ipython",
    "version": 3
   },
   "file_extension": ".py",
   "mimetype": "text/x-python",
   "name": "python",
   "nbconvert_exporter": "python",
   "pygments_lexer": "ipython3",
   "version": "3.12.6"
  }
 },
 "nbformat": 4,
 "nbformat_minor": 2
}
