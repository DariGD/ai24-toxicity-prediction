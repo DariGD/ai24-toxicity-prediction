{
 "cells": [
  {
   "cell_type": "code",
   "execution_count": 1,
   "metadata": {},
   "outputs": [],
   "source": [
    "# Эагрузка файла, предварительно скачанного с PubChem \n",
    "# по ссылке https://pubchem.ncbi.nlm.nih.gov/#query=PubChem%20Compound%20TOC%3A%20Toxicity\n",
    "# Ссылка - это поиск по фразе 'PubChem Compound TOC: Toxicity', \n",
    "# выдает (предположительно) вещества, где в описании секция Toxicity не пустая\n",
    "import pandas as pd\n",
    "df = pd.read_csv(r'../data/raw/pubchem/PubChem_compound_cache_hcIgmJxu-dLO_HHl8504zfcrnUtTnzWLT64ux1S_PMZUpgA.csv')"
   ]
  },
  {
   "cell_type": "code",
   "execution_count": 2,
   "metadata": {},
   "outputs": [],
   "source": [
    "# В моем файле дефект - лишний пробел в начале, поэтому \n",
    "# переименуем ' cid' в 'cid'\n",
    "df = df.rename(columns={' cid': 'cid'})"
   ]
  },
  {
   "cell_type": "code",
   "execution_count": 104,
   "metadata": {},
   "outputs": [],
   "source": [
    "# создадим пустой датафрейм для приема запрошенных данных\n",
    "toxicity_data = pd.DataFrame(\n",
    "    {\n",
    "        \"cid\": pd.Series(dtype=\"int64\"),\n",
    "        \"status_code\": pd.Series(dtype=\"int16\"),\n",
    "        \"toxicity_data_info\": pd.Series(dtype=\"object\"),\n",
    "        \"toxicity_data_value\": pd.Series(dtype=\"object\"),\n",
    "    }\n",
    ")\n",
    "\n",
    "# заготовим пустые строки с номерами CID \n",
    "toxicity_data['cid'] = df.cid   "
   ]
  },
  {
   "cell_type": "code",
   "execution_count": 289,
   "metadata": {},
   "outputs": [
    {
     "data": {
      "text/plain": [
       "(cid                      int64\n",
       " status_code            float64\n",
       " toxicity_data_info      object\n",
       " toxicity_data_value     object\n",
       " dtype: object,\n",
       " (118039, 4))"
      ]
     },
     "execution_count": 289,
     "metadata": {},
     "output_type": "execute_result"
    }
   ],
   "source": [
    "toxicity_data.dtypes, toxicity_data.shape"
   ]
  },
  {
   "cell_type": "code",
   "execution_count": 281,
   "metadata": {},
   "outputs": [],
   "source": [
    "import random\n",
    "import time\n",
    "import logging\n",
    "# чтобы это сработало, предварительно выполнить в корне проекта\n",
    "# $ pip install .\n",
    "from datasets import pubchem as pc "
   ]
  },
  {
   "cell_type": "code",
   "execution_count": 282,
   "metadata": {},
   "outputs": [],
   "source": [
    "start = 0\n",
    "stop = 118040 # это максимальный номер в скачанном файле\n",
    "\n",
    "\n",
    "for index, row in toxicity_data.loc[start:stop].iterrows():\n",
    "    # print(f\"{index}: {row}\")\n",
    "    if row['status_code'] in [200, 404]:\n",
    "        continue\n",
    "    try:\n",
    "        res = pc.get_toxicity_data(row['cid'])\n",
    "        toxicity_data.at[index, 'status_code'] = int(res.status_code)\n",
    "        toxicity_data.at[index, 'toxicity_data_info'] = res.json()\n",
    "        toxicity_data.at[index, 'toxicity_data_value'] = [\n",
    "            pc.get_toxicity_data_value(res.json()) if res.status_code == 200 else None\n",
    "        ]\n",
    "    except Exception as e:\n",
    "        toxicity_data.at[index, 'status_code'] = 0\n",
    "        toxicity_data.at[index, 'toxicity_data_info'] = None\n",
    "        toxicity_data.at[index, 'toxicity_data_value'] = None\n",
    "        logging.error(f\"{index}/{stop}: cid={row['cid']}: {e}\")\n",
    "    print(f\"{index}/{stop}: cid={row['cid']}: {res.status_code}\")\n",
    "    time.sleep(random.random()/3+0.2)"
   ]
  },
  {
   "cell_type": "code",
   "execution_count": null,
   "metadata": {},
   "outputs": [],
   "source": []
  }
 ],
 "metadata": {
  "kernelspec": {
   "display_name": ".venv",
   "language": "python",
   "name": "python3"
  },
  "language_info": {
   "codemirror_mode": {
    "name": "ipython",
    "version": 3
   },
   "file_extension": ".py",
   "mimetype": "text/x-python",
   "name": "python",
   "nbconvert_exporter": "python",
   "pygments_lexer": "ipython3",
   "version": "3.12.6"
  }
 },
 "nbformat": 4,
 "nbformat_minor": 2
}
