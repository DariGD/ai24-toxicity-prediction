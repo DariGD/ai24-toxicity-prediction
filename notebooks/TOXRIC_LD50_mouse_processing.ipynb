{
 "cells": [
  {
   "cell_type": "code",
   "execution_count": 3,
   "metadata": {},
   "outputs": [],
   "source": [
    "import pandas as pd\n",
    "import numpy as np"
   ]
  },
  {
   "cell_type": "markdown",
   "metadata": {},
   "source": [
    "### Загрузка датасета TOXRIC"
   ]
  },
  {
   "cell_type": "markdown",
   "metadata": {},
   "source": [
    "Датасет TOXRIC состоит из двух частей, отличающихся способом введения хим. соединения в организм (intravenous/intravenous).\n",
    "Скачаем обе части датасета из БД TOXRIC"
   ]
  },
  {
   "cell_type": "code",
   "execution_count": 4,
   "metadata": {},
   "outputs": [],
   "source": [
    "# Примечание! Для того, чтобы скачать файл по ссылке нужно сначла открыть ссылку в браузере\n",
    "df_intraperitoneal = pd.read_csv('https://toxric.bioinforai.tech/jk/DownloadController/DownloadToxicityInfo?toxicityId=44', delimiter=',')"
   ]
  },
  {
   "cell_type": "code",
   "execution_count": 6,
   "metadata": {},
   "outputs": [],
   "source": [
    "# Примечание! Для того, чтобы скачать файл по ссылке нужно сначла открыть ссылку в браузере\n",
    "df_intravenous = pd.read_csv('https://toxric.bioinforai.tech/jk/DownloadController/DownloadToxicityInfo?toxicityId=51', delimiter=',')"
   ]
  },
  {
   "cell_type": "markdown",
   "metadata": {},
   "source": [
    "Теперь объединим оба датасета в один. При этом добавим новый столбец с указанием способа введения хим. соединения в организм (intravenous/intravenous). Пусть для способа intravenous значение будет равно 0, а для ntravenous - 1"
   ]
  },
  {
   "cell_type": "code",
   "execution_count": 7,
   "metadata": {},
   "outputs": [],
   "source": [
    "df_intraperitoneal['Injection Method'] = 0\n",
    "df_intravenous['Injection Method'] = 1\n",
    "df_toxric = pd.concat([df_intraperitoneal, df_intravenous], axis=0)"
   ]
  },
  {
   "cell_type": "code",
   "execution_count": 8,
   "metadata": {},
   "outputs": [
    {
     "data": {
      "text/plain": [
       "(51797, 8)"
      ]
     },
     "execution_count": 8,
     "metadata": {},
     "output_type": "execute_result"
    }
   ],
   "source": [
    "df_toxric.shape"
   ]
  },
  {
   "cell_type": "code",
   "execution_count": 43,
   "metadata": {},
   "outputs": [
    {
     "name": "stdout",
     "output_type": "stream",
     "text": [
      "<class 'pandas.core.frame.DataFrame'>\n",
      "Index: 51797 entries, 0 to 16497\n",
      "Data columns (total 8 columns):\n",
      " #   Column            Non-Null Count  Dtype  \n",
      "---  ------            --------------  -----  \n",
      " 0   TAID              51797 non-null  object \n",
      " 1   Name              6043 non-null   object \n",
      " 2   IUPAC Name        49449 non-null  object \n",
      " 3   PubChem CID       51797 non-null  int64  \n",
      " 4   Smiles            51797 non-null  object \n",
      " 5   InChIKey          51746 non-null  object \n",
      " 6   Toxicity Value    51797 non-null  float64\n",
      " 7   Injection Method  51797 non-null  int64  \n",
      "dtypes: float64(1), int64(2), object(5)\n",
      "memory usage: 3.6+ MB\n"
     ]
    }
   ],
   "source": [
    "# Видим, что все наиболее значимые столбцы данных не содержат пропусков\n",
    "df_toxric.info()"
   ]
  },
  {
   "cell_type": "code",
   "execution_count": 13,
   "metadata": {},
   "outputs": [
    {
     "name": "stdout",
     "output_type": "stream",
     "text": [
      "0\n"
     ]
    }
   ],
   "source": [
    "# Проверим, есть ли в датасете полные дубли\n",
    "duplicates = df_toxric.duplicated()\n",
    "duplicated_rows = df_toxric[duplicates]\n",
    "print(duplicates.sum()) # видно, что в датасете нет дублей\n",
    "# Удалим их\n",
    "df_toxric.drop_duplicates(inplace=True)"
   ]
  },
  {
   "cell_type": "markdown",
   "metadata": {},
   "source": [
    "### Загрузка датасета ChEMBL"
   ]
  },
  {
   "cell_type": "code",
   "execution_count": 36,
   "metadata": {},
   "outputs": [],
   "source": [
    "# Скачаем предобработанный датасет ChEMBL (расположен локально в репозитории)\n",
    "df_chembl = pd.read_csv('../data/raw/ChEMBL_LD50_preprocessed.csv', delimiter=',')"
   ]
  },
  {
   "cell_type": "code",
   "execution_count": 42,
   "metadata": {},
   "outputs": [
    {
     "data": {
      "text/plain": [
       "(6554, 9)"
      ]
     },
     "execution_count": 42,
     "metadata": {},
     "output_type": "execute_result"
    }
   ],
   "source": [
    "df_chembl.shape"
   ]
  },
  {
   "cell_type": "code",
   "execution_count": 40,
   "metadata": {},
   "outputs": [
    {
     "data": {
      "text/plain": [
       "Target Organism\n",
       "Mus musculus                4659\n",
       "Rattus norvegicus            803\n",
       "Helicoverpa assulta           78\n",
       "Musca domestica               45\n",
       "Chilo suppressalis            39\n",
       "Plutella xylostella           36\n",
       "Laodelphax striatellus        33\n",
       "Nephotettix cincticeps        27\n",
       "Cavia porcellus               27\n",
       "Lucilia cuprina               21\n",
       "Bombyx mori                   14\n",
       "Mus sp.                       13\n",
       "Oryctolagus cuniculus         11\n",
       "Helicoverpa armigera           8\n",
       "Canis lupus familiaris         6\n",
       "Sitophilus zeamais             5\n",
       "Gallus gallus                  5\n",
       "Homo sapiens                   3\n",
       "Macaca mulatta                 2\n",
       "Ostrinia furnacalis            2\n",
       "Spodoptera litura              2\n",
       "Coturnix japonica              1\n",
       "Anas platyrhynchos             1\n",
       "Cercopithecidae                1\n",
       "Plasmodium yoelii yoelii       1\n",
       "Name: count, dtype: int64"
      ]
     },
     "execution_count": 40,
     "metadata": {},
     "output_type": "execute_result"
    }
   ],
   "source": [
    "# Видно, что в датасете ChEMBL разные соединения тестировались на различных организмах, в то время как в датасете TOXRIC - только на мышах\n",
    "df_chembl['Target Organism'].value_counts()"
   ]
  },
  {
   "cell_type": "markdown",
   "metadata": {},
   "source": [
    "### Объединим датафреймы ChEMBL и TOXRIC в один по столбцу SMILES"
   ]
  },
  {
   "cell_type": "code",
   "execution_count": 14,
   "metadata": {},
   "outputs": [],
   "source": [
    "# Переименуем столбец Canonical SMILES в SMILES, чтобы объединить оба датафрейма по этому столбцу\n",
    "df_toxric.rename(columns={'Canonical SMILES': 'Smiles'}, inplace=True)"
   ]
  },
  {
   "cell_type": "code",
   "execution_count": 22,
   "metadata": {},
   "outputs": [],
   "source": [
    "merged_df = pd.merge(df_toxric, df_chembl, on='Smiles', how='left')"
   ]
  },
  {
   "cell_type": "code",
   "execution_count": 23,
   "metadata": {},
   "outputs": [
    {
     "name": "stdout",
     "output_type": "stream",
     "text": [
      "(51797, 8)\n",
      "(13758, 9)\n",
      "(52664, 16)\n"
     ]
    }
   ],
   "source": [
    "# Посмотрим на размеры исходных датасетов и датасета, полученного в результате слияния по столбцу SMILES\n",
    "print(df_toxric.shape)\n",
    "print(df_chembl.shape)\n",
    "print(merged_df.shape)\n",
    "# Видим, что часть строк присутствовала в обоих датасетах, поэтому результирующий датасет увеличился всего на 900 строк"
   ]
  },
  {
   "cell_type": "markdown",
   "metadata": {},
   "source": [
    "Одной из проблем является то, что многие соединения, присутствующие в обоих датасетах, имеют разное значение LD50"
   ]
  },
  {
   "cell_type": "code",
   "execution_count": 44,
   "metadata": {},
   "outputs": [],
   "source": [
    "# Выберем строки датафрейма, которые содержат значниия LD50, как для БД ChEMBL, так и для БД TOXRIC\n",
    "# Отфильтруем строки, не содержащие значения LD50: \n",
    "# Для датасета ChEMBL это столбец Standard Value\n",
    "# Для датасета TOXRIC - столбец Toxicity Value\n",
    "tox_units = merged_df[pd.notna(merged_df['Toxicity Value']) & pd.notna(merged_df['Standard Value'])]\n",
    "# В датасете ChEMBL значения LD50 представлены в различных единицах. \n",
    "\n",
    "# Выберем только те строки, где действие соединения оценивалось на мышах, как в датасете TOXRIС\n",
    "tox_units = tox_units[tox_units['Target Organism'] == 'Mus musculus']\\\n",
    "    [['Toxicity Value', 'Injection Method', 'Standard Value', 'Standard Relation', 'Standard Units']]"
   ]
  },
  {
   "cell_type": "code",
   "execution_count": 45,
   "metadata": {},
   "outputs": [
    {
     "data": {
      "text/plain": [
       "Injection Method\n",
       "0    868\n",
       "1    442\n",
       "Name: count, dtype: int64"
      ]
     },
     "execution_count": 45,
     "metadata": {},
     "output_type": "execute_result"
    }
   ],
   "source": [
    "# Посмотрим на распределение соединений по способу ввода в организм\n",
    "tox_units['Injection Method'].value_counts()"
   ]
  },
  {
   "cell_type": "code",
   "execution_count": 46,
   "metadata": {},
   "outputs": [],
   "source": [
    "# Выберем строки, соответствующие соединениями, вводимым с применением метода intraperitoneal\n",
    "intraperitoneal = tox_units[tox_units['Injection Method'] == 0]"
   ]
  },
  {
   "cell_type": "code",
   "execution_count": 47,
   "metadata": {},
   "outputs": [
    {
     "data": {
      "text/html": [
       "<div>\n",
       "<style scoped>\n",
       "    .dataframe tbody tr th:only-of-type {\n",
       "        vertical-align: middle;\n",
       "    }\n",
       "\n",
       "    .dataframe tbody tr th {\n",
       "        vertical-align: top;\n",
       "    }\n",
       "\n",
       "    .dataframe thead th {\n",
       "        text-align: right;\n",
       "    }\n",
       "</style>\n",
       "<table border=\"1\" class=\"dataframe\">\n",
       "  <thead>\n",
       "    <tr style=\"text-align: right;\">\n",
       "      <th></th>\n",
       "      <th>Toxicity Value</th>\n",
       "      <th>Injection Method</th>\n",
       "      <th>Standard Value</th>\n",
       "      <th>Standard Relation</th>\n",
       "      <th>Standard Units</th>\n",
       "    </tr>\n",
       "  </thead>\n",
       "  <tbody>\n",
       "    <tr>\n",
       "      <th>8</th>\n",
       "      <td>73.299512</td>\n",
       "      <td>0</td>\n",
       "      <td>80.0</td>\n",
       "      <td>'='</td>\n",
       "      <td>mg.kg-1</td>\n",
       "    </tr>\n",
       "    <tr>\n",
       "      <th>191</th>\n",
       "      <td>66.996726</td>\n",
       "      <td>0</td>\n",
       "      <td>70.0</td>\n",
       "      <td>'='</td>\n",
       "      <td>mg.kg-1</td>\n",
       "    </tr>\n",
       "    <tr>\n",
       "      <th>251</th>\n",
       "      <td>55.648207</td>\n",
       "      <td>0</td>\n",
       "      <td>56.0</td>\n",
       "      <td>'='</td>\n",
       "      <td>mg.kg-1</td>\n",
       "    </tr>\n",
       "    <tr>\n",
       "      <th>285</th>\n",
       "      <td>319.992244</td>\n",
       "      <td>0</td>\n",
       "      <td>336.0</td>\n",
       "      <td>'='</td>\n",
       "      <td>mg.kg-1</td>\n",
       "    </tr>\n",
       "    <tr>\n",
       "      <th>430</th>\n",
       "      <td>999.977521</td>\n",
       "      <td>0</td>\n",
       "      <td>1000.0</td>\n",
       "      <td>'='</td>\n",
       "      <td>mg.kg-1</td>\n",
       "    </tr>\n",
       "    <tr>\n",
       "      <th>...</th>\n",
       "      <td>...</td>\n",
       "      <td>...</td>\n",
       "      <td>...</td>\n",
       "      <td>...</td>\n",
       "      <td>...</td>\n",
       "    </tr>\n",
       "    <tr>\n",
       "      <th>34955</th>\n",
       "      <td>42.994633</td>\n",
       "      <td>0</td>\n",
       "      <td>43.0</td>\n",
       "      <td>'='</td>\n",
       "      <td>mg.kg-1</td>\n",
       "    </tr>\n",
       "    <tr>\n",
       "      <th>34961</th>\n",
       "      <td>71.995506</td>\n",
       "      <td>0</td>\n",
       "      <td>72.0</td>\n",
       "      <td>'='</td>\n",
       "      <td>mg.kg-1</td>\n",
       "    </tr>\n",
       "    <tr>\n",
       "      <th>35461</th>\n",
       "      <td>799.973502</td>\n",
       "      <td>0</td>\n",
       "      <td>800.0</td>\n",
       "      <td>'&gt;'</td>\n",
       "      <td>mg.kg-1</td>\n",
       "    </tr>\n",
       "    <tr>\n",
       "      <th>35464</th>\n",
       "      <td>799.986514</td>\n",
       "      <td>0</td>\n",
       "      <td>800.0</td>\n",
       "      <td>'&gt;'</td>\n",
       "      <td>mg.kg-1</td>\n",
       "    </tr>\n",
       "    <tr>\n",
       "      <th>35770</th>\n",
       "      <td>236.990436</td>\n",
       "      <td>0</td>\n",
       "      <td>237.0</td>\n",
       "      <td>'='</td>\n",
       "      <td>mg.kg-1</td>\n",
       "    </tr>\n",
       "  </tbody>\n",
       "</table>\n",
       "<p>463 rows × 5 columns</p>\n",
       "</div>"
      ],
      "text/plain": [
       "       Toxicity Value  Injection Method  Standard Value Standard Relation  \\\n",
       "8           73.299512                 0            80.0               '='   \n",
       "191         66.996726                 0            70.0               '='   \n",
       "251         55.648207                 0            56.0               '='   \n",
       "285        319.992244                 0           336.0               '='   \n",
       "430        999.977521                 0          1000.0               '='   \n",
       "...               ...               ...             ...               ...   \n",
       "34955       42.994633                 0            43.0               '='   \n",
       "34961       71.995506                 0            72.0               '='   \n",
       "35461      799.973502                 0           800.0               '>'   \n",
       "35464      799.986514                 0           800.0               '>'   \n",
       "35770      236.990436                 0           237.0               '='   \n",
       "\n",
       "      Standard Units  \n",
       "8            mg.kg-1  \n",
       "191          mg.kg-1  \n",
       "251          mg.kg-1  \n",
       "285          mg.kg-1  \n",
       "430          mg.kg-1  \n",
       "...              ...  \n",
       "34955        mg.kg-1  \n",
       "34961        mg.kg-1  \n",
       "35461        mg.kg-1  \n",
       "35464        mg.kg-1  \n",
       "35770        mg.kg-1  \n",
       "\n",
       "[463 rows x 5 columns]"
      ]
     },
     "execution_count": 47,
     "metadata": {},
     "output_type": "execute_result"
    }
   ],
   "source": [
    "# Отфильтруем строки, в которых разница между значениями токсичности для одного и того же соединения составляет менее 10% \n",
    "intraperitoneal[abs(intraperitoneal['Toxicity Value'] - intraperitoneal['Standard Value']) < \\\n",
    "                intraperitoneal[['Toxicity Value','Standard Value']].min(axis=1) * 0.1]"
   ]
  },
  {
   "cell_type": "markdown",
   "metadata": {},
   "source": [
    "Видно, что из 868 соединений только 463 имеют значения токсичности (по данным из двух БД) отличающиеся не более чем на 10%"
   ]
  },
  {
   "cell_type": "code",
   "execution_count": 48,
   "metadata": {},
   "outputs": [],
   "source": [
    "# Выберем строки, соответствующие соединениями, вводимым с применением метода intravenous\n",
    "intravenous = tox_units[tox_units['Injection Method'] == 1]"
   ]
  },
  {
   "cell_type": "code",
   "execution_count": 49,
   "metadata": {},
   "outputs": [
    {
     "data": {
      "text/html": [
       "<div>\n",
       "<style scoped>\n",
       "    .dataframe tbody tr th:only-of-type {\n",
       "        vertical-align: middle;\n",
       "    }\n",
       "\n",
       "    .dataframe tbody tr th {\n",
       "        vertical-align: top;\n",
       "    }\n",
       "\n",
       "    .dataframe thead th {\n",
       "        text-align: right;\n",
       "    }\n",
       "</style>\n",
       "<table border=\"1\" class=\"dataframe\">\n",
       "  <thead>\n",
       "    <tr style=\"text-align: right;\">\n",
       "      <th></th>\n",
       "      <th>Toxicity Value</th>\n",
       "      <th>Injection Method</th>\n",
       "      <th>Standard Value</th>\n",
       "      <th>Standard Relation</th>\n",
       "      <th>Standard Units</th>\n",
       "    </tr>\n",
       "  </thead>\n",
       "  <tbody>\n",
       "    <tr>\n",
       "      <th>35845</th>\n",
       "      <td>79.999467</td>\n",
       "      <td>1</td>\n",
       "      <td>80.0</td>\n",
       "      <td>'='</td>\n",
       "      <td>mg.kg-1</td>\n",
       "    </tr>\n",
       "    <tr>\n",
       "      <th>35930</th>\n",
       "      <td>557.007800</td>\n",
       "      <td>1</td>\n",
       "      <td>609.0</td>\n",
       "      <td>'='</td>\n",
       "      <td>mg.kg-1</td>\n",
       "    </tr>\n",
       "    <tr>\n",
       "      <th>35963</th>\n",
       "      <td>179.995099</td>\n",
       "      <td>1</td>\n",
       "      <td>180.0</td>\n",
       "      <td>'='</td>\n",
       "      <td>mg.kg-1</td>\n",
       "    </tr>\n",
       "    <tr>\n",
       "      <th>36028</th>\n",
       "      <td>6.847763</td>\n",
       "      <td>1</td>\n",
       "      <td>7.0</td>\n",
       "      <td>'='</td>\n",
       "      <td>mg.kg-1</td>\n",
       "    </tr>\n",
       "    <tr>\n",
       "      <th>36174</th>\n",
       "      <td>93.999022</td>\n",
       "      <td>1</td>\n",
       "      <td>94.0</td>\n",
       "      <td>'='</td>\n",
       "      <td>mg.kg-1</td>\n",
       "    </tr>\n",
       "    <tr>\n",
       "      <th>...</th>\n",
       "      <td>...</td>\n",
       "      <td>...</td>\n",
       "      <td>...</td>\n",
       "      <td>...</td>\n",
       "      <td>...</td>\n",
       "    </tr>\n",
       "    <tr>\n",
       "      <th>52420</th>\n",
       "      <td>75.002488</td>\n",
       "      <td>1</td>\n",
       "      <td>75.0</td>\n",
       "      <td>'='</td>\n",
       "      <td>mg.kg-1</td>\n",
       "    </tr>\n",
       "    <tr>\n",
       "      <th>52421</th>\n",
       "      <td>63.006969</td>\n",
       "      <td>1</td>\n",
       "      <td>63.0</td>\n",
       "      <td>'='</td>\n",
       "      <td>mg.kg-1</td>\n",
       "    </tr>\n",
       "    <tr>\n",
       "      <th>52422</th>\n",
       "      <td>11.000932</td>\n",
       "      <td>1</td>\n",
       "      <td>11.0</td>\n",
       "      <td>'='</td>\n",
       "      <td>mg.kg-1</td>\n",
       "    </tr>\n",
       "    <tr>\n",
       "      <th>52423</th>\n",
       "      <td>6.000176</td>\n",
       "      <td>1</td>\n",
       "      <td>6.0</td>\n",
       "      <td>'='</td>\n",
       "      <td>mg.kg-1</td>\n",
       "    </tr>\n",
       "    <tr>\n",
       "      <th>52641</th>\n",
       "      <td>2.500018</td>\n",
       "      <td>1</td>\n",
       "      <td>2.5</td>\n",
       "      <td>'='</td>\n",
       "      <td>mg.kg-1</td>\n",
       "    </tr>\n",
       "  </tbody>\n",
       "</table>\n",
       "<p>224 rows × 5 columns</p>\n",
       "</div>"
      ],
      "text/plain": [
       "       Toxicity Value  Injection Method  Standard Value Standard Relation  \\\n",
       "35845       79.999467                 1            80.0               '='   \n",
       "35930      557.007800                 1           609.0               '='   \n",
       "35963      179.995099                 1           180.0               '='   \n",
       "36028        6.847763                 1             7.0               '='   \n",
       "36174       93.999022                 1            94.0               '='   \n",
       "...               ...               ...             ...               ...   \n",
       "52420       75.002488                 1            75.0               '='   \n",
       "52421       63.006969                 1            63.0               '='   \n",
       "52422       11.000932                 1            11.0               '='   \n",
       "52423        6.000176                 1             6.0               '='   \n",
       "52641        2.500018                 1             2.5               '='   \n",
       "\n",
       "      Standard Units  \n",
       "35845        mg.kg-1  \n",
       "35930        mg.kg-1  \n",
       "35963        mg.kg-1  \n",
       "36028        mg.kg-1  \n",
       "36174        mg.kg-1  \n",
       "...              ...  \n",
       "52420        mg.kg-1  \n",
       "52421        mg.kg-1  \n",
       "52422        mg.kg-1  \n",
       "52423        mg.kg-1  \n",
       "52641        mg.kg-1  \n",
       "\n",
       "[224 rows x 5 columns]"
      ]
     },
     "execution_count": 49,
     "metadata": {},
     "output_type": "execute_result"
    }
   ],
   "source": [
    "# Отфильтруем строки, в которых разница между значениями токсичности для одного и того же соединения составляет менее 10% \n",
    "intravenous[abs(intravenous['Toxicity Value'] - intravenous['Standard Value']) < \\\n",
    "               intravenous[['Toxicity Value','Standard Value']].min(axis=1) * 0.1]"
   ]
  },
  {
   "cell_type": "markdown",
   "metadata": {},
   "source": [
    "Видно, что из 442 соединений только 224 имеют значения токсичности (по данным из двух БД) отличающиеся не более чем на 10%"
   ]
  }
 ],
 "metadata": {
  "kernelspec": {
   "display_name": "Python 3",
   "language": "python",
   "name": "python3"
  },
  "language_info": {
   "codemirror_mode": {
    "name": "ipython",
    "version": 3
   },
   "file_extension": ".py",
   "mimetype": "text/x-python",
   "name": "python",
   "nbconvert_exporter": "python",
   "pygments_lexer": "ipython3",
   "version": "3.12.5"
  }
 },
 "nbformat": 4,
 "nbformat_minor": 2
}
