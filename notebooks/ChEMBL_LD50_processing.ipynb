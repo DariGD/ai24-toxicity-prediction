{
 "cells": [
  {
   "cell_type": "code",
   "execution_count": 1,
   "metadata": {},
   "outputs": [],
   "source": [
    "import pandas as pd"
   ]
  },
  {
   "cell_type": "code",
   "execution_count": 2,
   "metadata": {},
   "outputs": [],
   "source": [
    "df = pd.read_csv('../data/raw/ChEMBL_LD50.csv', delimiter=';')"
   ]
  },
  {
   "cell_type": "code",
   "execution_count": 3,
   "metadata": {},
   "outputs": [
    {
     "data": {
      "text/html": [
       "<div>\n",
       "<style scoped>\n",
       "    .dataframe tbody tr th:only-of-type {\n",
       "        vertical-align: middle;\n",
       "    }\n",
       "\n",
       "    .dataframe tbody tr th {\n",
       "        vertical-align: top;\n",
       "    }\n",
       "\n",
       "    .dataframe thead th {\n",
       "        text-align: right;\n",
       "    }\n",
       "</style>\n",
       "<table border=\"1\" class=\"dataframe\">\n",
       "  <thead>\n",
       "    <tr style=\"text-align: right;\">\n",
       "      <th></th>\n",
       "      <th>Molecule ChEMBL ID</th>\n",
       "      <th>Molecule Name</th>\n",
       "      <th>Molecule Max Phase</th>\n",
       "      <th>Molecular Weight</th>\n",
       "      <th>#RO5 Violations</th>\n",
       "      <th>AlogP</th>\n",
       "      <th>Compound Key</th>\n",
       "      <th>Smiles</th>\n",
       "      <th>Standard Type</th>\n",
       "      <th>Standard Relation</th>\n",
       "      <th>...</th>\n",
       "      <th>Target Type</th>\n",
       "      <th>Document ChEMBL ID</th>\n",
       "      <th>Source ID</th>\n",
       "      <th>Source Description</th>\n",
       "      <th>Document Journal</th>\n",
       "      <th>Document Year</th>\n",
       "      <th>Cell ChEMBL ID</th>\n",
       "      <th>Properties</th>\n",
       "      <th>Action Type</th>\n",
       "      <th>Standard Text Value</th>\n",
       "    </tr>\n",
       "  </thead>\n",
       "  <tbody>\n",
       "    <tr>\n",
       "      <th>0</th>\n",
       "      <td>CHEMBL159677</td>\n",
       "      <td>NaN</td>\n",
       "      <td>NaN</td>\n",
       "      <td>274.36</td>\n",
       "      <td>0.0</td>\n",
       "      <td>2.65</td>\n",
       "      <td>6i</td>\n",
       "      <td>COc1ccccc1NC(=O)CC12CCCN1CCC2</td>\n",
       "      <td>LD50</td>\n",
       "      <td>'='</td>\n",
       "      <td>...</td>\n",
       "      <td>ORGANISM</td>\n",
       "      <td>CHEMBL1123007</td>\n",
       "      <td>1</td>\n",
       "      <td>Scientific Literature</td>\n",
       "      <td>J Med Chem</td>\n",
       "      <td>1985.0</td>\n",
       "      <td>NaN</td>\n",
       "      <td>NaN</td>\n",
       "      <td>NaN</td>\n",
       "      <td>NaN</td>\n",
       "    </tr>\n",
       "    <tr>\n",
       "      <th>1</th>\n",
       "      <td>CHEMBL28962</td>\n",
       "      <td>NaN</td>\n",
       "      <td>NaN</td>\n",
       "      <td>372.88</td>\n",
       "      <td>0.0</td>\n",
       "      <td>0.83</td>\n",
       "      <td>4br</td>\n",
       "      <td>CN(CCCn1cc[n+](C)c1/C=N/O)S(=O)(=O)c1ccccc1.[Cl-]</td>\n",
       "      <td>LD50</td>\n",
       "      <td>'&gt;'</td>\n",
       "      <td>...</td>\n",
       "      <td>ORGANISM</td>\n",
       "      <td>CHEMBL1125665</td>\n",
       "      <td>1</td>\n",
       "      <td>Scientific Literature</td>\n",
       "      <td>J Med Chem</td>\n",
       "      <td>1991.0</td>\n",
       "      <td>NaN</td>\n",
       "      <td>NaN</td>\n",
       "      <td>NaN</td>\n",
       "      <td>NaN</td>\n",
       "    </tr>\n",
       "    <tr>\n",
       "      <th>2</th>\n",
       "      <td>CHEMBL94427</td>\n",
       "      <td>HOMOEPIBATIDINE</td>\n",
       "      <td>NaN</td>\n",
       "      <td>222.72</td>\n",
       "      <td>0.0</td>\n",
       "      <td>2.73</td>\n",
       "      <td>2</td>\n",
       "      <td>Clc1ccc(C2CC3CCCC2N3)cn1</td>\n",
       "      <td>LD50</td>\n",
       "      <td>'='</td>\n",
       "      <td>...</td>\n",
       "      <td>ADMET</td>\n",
       "      <td>CHEMBL1128964</td>\n",
       "      <td>1</td>\n",
       "      <td>Scientific Literature</td>\n",
       "      <td>Bioorg Med Chem Lett</td>\n",
       "      <td>1996.0</td>\n",
       "      <td>NaN</td>\n",
       "      <td>NaN</td>\n",
       "      <td>NaN</td>\n",
       "      <td>NaN</td>\n",
       "    </tr>\n",
       "    <tr>\n",
       "      <th>3</th>\n",
       "      <td>CHEMBL298470</td>\n",
       "      <td>TAFENOQUINE</td>\n",
       "      <td>4.0</td>\n",
       "      <td>463.50</td>\n",
       "      <td>1.0</td>\n",
       "      <td>5.91</td>\n",
       "      <td>8a</td>\n",
       "      <td>COc1cc(C)c2c(Oc3cccc(C(F)(F)F)c3)c(OC)cc(NC(C)...</td>\n",
       "      <td>LD50</td>\n",
       "      <td>'='</td>\n",
       "      <td>...</td>\n",
       "      <td>ORGANISM</td>\n",
       "      <td>CHEMBL1124633</td>\n",
       "      <td>1</td>\n",
       "      <td>Scientific Literature</td>\n",
       "      <td>J Med Chem</td>\n",
       "      <td>1989.0</td>\n",
       "      <td>NaN</td>\n",
       "      <td>NaN</td>\n",
       "      <td>NaN</td>\n",
       "      <td>NaN</td>\n",
       "    </tr>\n",
       "    <tr>\n",
       "      <th>4</th>\n",
       "      <td>CHEMBL607363</td>\n",
       "      <td>NaN</td>\n",
       "      <td>NaN</td>\n",
       "      <td>347.48</td>\n",
       "      <td>0.0</td>\n",
       "      <td>3.41</td>\n",
       "      <td>25a</td>\n",
       "      <td>Cc1cccc(C)c1OCC(C)NC(=O)C1CC(C)(C)N([O])C1(C)C</td>\n",
       "      <td>LD50</td>\n",
       "      <td>'='</td>\n",
       "      <td>...</td>\n",
       "      <td>ORGANISM</td>\n",
       "      <td>CHEMBL1123299</td>\n",
       "      <td>1</td>\n",
       "      <td>Scientific Literature</td>\n",
       "      <td>J Med Chem</td>\n",
       "      <td>1986.0</td>\n",
       "      <td>NaN</td>\n",
       "      <td>NaN</td>\n",
       "      <td>NaN</td>\n",
       "      <td>NaN</td>\n",
       "    </tr>\n",
       "  </tbody>\n",
       "</table>\n",
       "<p>5 rows × 47 columns</p>\n",
       "</div>"
      ],
      "text/plain": [
       "  Molecule ChEMBL ID    Molecule Name  Molecule Max Phase  Molecular Weight  \\\n",
       "0       CHEMBL159677              NaN                 NaN            274.36   \n",
       "1        CHEMBL28962              NaN                 NaN            372.88   \n",
       "2        CHEMBL94427  HOMOEPIBATIDINE                 NaN            222.72   \n",
       "3       CHEMBL298470      TAFENOQUINE                 4.0            463.50   \n",
       "4       CHEMBL607363              NaN                 NaN            347.48   \n",
       "\n",
       "   #RO5 Violations  AlogP Compound Key  \\\n",
       "0              0.0   2.65           6i   \n",
       "1              0.0   0.83          4br   \n",
       "2              0.0   2.73            2   \n",
       "3              1.0   5.91           8a   \n",
       "4              0.0   3.41          25a   \n",
       "\n",
       "                                              Smiles Standard Type  \\\n",
       "0                      COc1ccccc1NC(=O)CC12CCCN1CCC2          LD50   \n",
       "1  CN(CCCn1cc[n+](C)c1/C=N/O)S(=O)(=O)c1ccccc1.[Cl-]          LD50   \n",
       "2                           Clc1ccc(C2CC3CCCC2N3)cn1          LD50   \n",
       "3  COc1cc(C)c2c(Oc3cccc(C(F)(F)F)c3)c(OC)cc(NC(C)...          LD50   \n",
       "4     Cc1cccc(C)c1OCC(C)NC(=O)C1CC(C)(C)N([O])C1(C)C          LD50   \n",
       "\n",
       "  Standard Relation  ...  Target Type Document ChEMBL ID  Source ID  \\\n",
       "0               '='  ...     ORGANISM      CHEMBL1123007          1   \n",
       "1               '>'  ...     ORGANISM      CHEMBL1125665          1   \n",
       "2               '='  ...        ADMET      CHEMBL1128964          1   \n",
       "3               '='  ...     ORGANISM      CHEMBL1124633          1   \n",
       "4               '='  ...     ORGANISM      CHEMBL1123299          1   \n",
       "\n",
       "      Source Description      Document Journal Document Year  Cell ChEMBL ID  \\\n",
       "0  Scientific Literature            J Med Chem        1985.0             NaN   \n",
       "1  Scientific Literature            J Med Chem        1991.0             NaN   \n",
       "2  Scientific Literature  Bioorg Med Chem Lett        1996.0             NaN   \n",
       "3  Scientific Literature            J Med Chem        1989.0             NaN   \n",
       "4  Scientific Literature            J Med Chem        1986.0             NaN   \n",
       "\n",
       "   Properties  Action Type  Standard Text Value  \n",
       "0         NaN          NaN                  NaN  \n",
       "1         NaN          NaN                  NaN  \n",
       "2         NaN          NaN                  NaN  \n",
       "3         NaN          NaN                  NaN  \n",
       "4         NaN          NaN                  NaN  \n",
       "\n",
       "[5 rows x 47 columns]"
      ]
     },
     "execution_count": 3,
     "metadata": {},
     "output_type": "execute_result"
    }
   ],
   "source": [
    "df.head()"
   ]
  },
  {
   "cell_type": "code",
   "execution_count": 4,
   "metadata": {},
   "outputs": [],
   "source": [
    "# Выберем из датасета только те столбцы, которые понадобятся для дальнейшего анализа\n",
    "df = df[['Smiles', \n",
    "         'Standard Type', \n",
    "         'Standard Relation', \n",
    "         'Standard Value', \n",
    "         'Standard Units', \n",
    "         'Target Name', \n",
    "         'Target Organism', \n",
    "         'Target Type',\n",
    "         'Assay Description']]"
   ]
  },
  {
   "cell_type": "code",
   "execution_count": 5,
   "metadata": {},
   "outputs": [
    {
     "data": {
      "text/html": [
       "<div>\n",
       "<style scoped>\n",
       "    .dataframe tbody tr th:only-of-type {\n",
       "        vertical-align: middle;\n",
       "    }\n",
       "\n",
       "    .dataframe tbody tr th {\n",
       "        vertical-align: top;\n",
       "    }\n",
       "\n",
       "    .dataframe thead th {\n",
       "        text-align: right;\n",
       "    }\n",
       "</style>\n",
       "<table border=\"1\" class=\"dataframe\">\n",
       "  <thead>\n",
       "    <tr style=\"text-align: right;\">\n",
       "      <th></th>\n",
       "      <th>Smiles</th>\n",
       "      <th>Standard Type</th>\n",
       "      <th>Standard Relation</th>\n",
       "      <th>Standard Value</th>\n",
       "      <th>Standard Units</th>\n",
       "      <th>Target Name</th>\n",
       "      <th>Target Organism</th>\n",
       "      <th>Target Type</th>\n",
       "      <th>Assay Description</th>\n",
       "    </tr>\n",
       "  </thead>\n",
       "  <tbody>\n",
       "    <tr>\n",
       "      <th>0</th>\n",
       "      <td>COc1ccccc1NC(=O)CC12CCCN1CCC2</td>\n",
       "      <td>LD50</td>\n",
       "      <td>'='</td>\n",
       "      <td>381.0</td>\n",
       "      <td>mg.kg-1</td>\n",
       "      <td>Mus musculus</td>\n",
       "      <td>Mus musculus</td>\n",
       "      <td>ORGANISM</td>\n",
       "      <td>Acute toxicity was determined in mice</td>\n",
       "    </tr>\n",
       "    <tr>\n",
       "      <th>1</th>\n",
       "      <td>CN(CCCn1cc[n+](C)c1/C=N/O)S(=O)(=O)c1ccccc1.[Cl-]</td>\n",
       "      <td>LD50</td>\n",
       "      <td>'&gt;'</td>\n",
       "      <td>170.0</td>\n",
       "      <td>umol.kg-1</td>\n",
       "      <td>Mus musculus</td>\n",
       "      <td>Mus musculus</td>\n",
       "      <td>ORGANISM</td>\n",
       "      <td>LD50 value was determined intramuscularly in m...</td>\n",
       "    </tr>\n",
       "    <tr>\n",
       "      <th>2</th>\n",
       "      <td>Clc1ccc(C2CC3CCCC2N3)cn1</td>\n",
       "      <td>LD50</td>\n",
       "      <td>'='</td>\n",
       "      <td>10.0</td>\n",
       "      <td>mg.kg-1</td>\n",
       "      <td>ADMET</td>\n",
       "      <td>NaN</td>\n",
       "      <td>ADMET</td>\n",
       "      <td>Lethal dose determined in Mice</td>\n",
       "    </tr>\n",
       "    <tr>\n",
       "      <th>3</th>\n",
       "      <td>COc1cc(C)c2c(Oc3cccc(C(F)(F)F)c3)c(OC)cc(NC(C)...</td>\n",
       "      <td>LD50</td>\n",
       "      <td>'='</td>\n",
       "      <td>416.0</td>\n",
       "      <td>mg.kg-1</td>\n",
       "      <td>Rattus norvegicus</td>\n",
       "      <td>Rattus norvegicus</td>\n",
       "      <td>ORGANISM</td>\n",
       "      <td>Acute toxicity administered orally was determi...</td>\n",
       "    </tr>\n",
       "    <tr>\n",
       "      <th>4</th>\n",
       "      <td>Cc1cccc(C)c1OCC(C)NC(=O)C1CC(C)(C)N([O])C1(C)C</td>\n",
       "      <td>LD50</td>\n",
       "      <td>'='</td>\n",
       "      <td>21.0</td>\n",
       "      <td>mg.kg-1</td>\n",
       "      <td>Rattus norvegicus</td>\n",
       "      <td>Rattus norvegicus</td>\n",
       "      <td>ORGANISM</td>\n",
       "      <td>Acute toxicity in secondary evaluation when ad...</td>\n",
       "    </tr>\n",
       "  </tbody>\n",
       "</table>\n",
       "</div>"
      ],
      "text/plain": [
       "                                              Smiles Standard Type  \\\n",
       "0                      COc1ccccc1NC(=O)CC12CCCN1CCC2          LD50   \n",
       "1  CN(CCCn1cc[n+](C)c1/C=N/O)S(=O)(=O)c1ccccc1.[Cl-]          LD50   \n",
       "2                           Clc1ccc(C2CC3CCCC2N3)cn1          LD50   \n",
       "3  COc1cc(C)c2c(Oc3cccc(C(F)(F)F)c3)c(OC)cc(NC(C)...          LD50   \n",
       "4     Cc1cccc(C)c1OCC(C)NC(=O)C1CC(C)(C)N([O])C1(C)C          LD50   \n",
       "\n",
       "  Standard Relation  Standard Value Standard Units        Target Name  \\\n",
       "0               '='           381.0        mg.kg-1       Mus musculus   \n",
       "1               '>'           170.0      umol.kg-1       Mus musculus   \n",
       "2               '='            10.0        mg.kg-1              ADMET   \n",
       "3               '='           416.0        mg.kg-1  Rattus norvegicus   \n",
       "4               '='            21.0        mg.kg-1  Rattus norvegicus   \n",
       "\n",
       "     Target Organism Target Type  \\\n",
       "0       Mus musculus    ORGANISM   \n",
       "1       Mus musculus    ORGANISM   \n",
       "2                NaN       ADMET   \n",
       "3  Rattus norvegicus    ORGANISM   \n",
       "4  Rattus norvegicus    ORGANISM   \n",
       "\n",
       "                                   Assay Description  \n",
       "0              Acute toxicity was determined in mice  \n",
       "1  LD50 value was determined intramuscularly in m...  \n",
       "2                     Lethal dose determined in Mice  \n",
       "3  Acute toxicity administered orally was determi...  \n",
       "4  Acute toxicity in secondary evaluation when ad...  "
      ]
     },
     "execution_count": 5,
     "metadata": {},
     "output_type": "execute_result"
    }
   ],
   "source": [
    "df.head()"
   ]
  },
  {
   "cell_type": "code",
   "execution_count": 6,
   "metadata": {},
   "outputs": [
    {
     "name": "stdout",
     "output_type": "stream",
     "text": [
      "<class 'pandas.core.frame.DataFrame'>\n",
      "RangeIndex: 13758 entries, 0 to 13757\n",
      "Data columns (total 9 columns):\n",
      " #   Column             Non-Null Count  Dtype  \n",
      "---  ------             --------------  -----  \n",
      " 0   Smiles             13631 non-null  object \n",
      " 1   Standard Type      13758 non-null  object \n",
      " 2   Standard Relation  13157 non-null  object \n",
      " 3   Standard Value     13144 non-null  float64\n",
      " 4   Standard Units     13226 non-null  object \n",
      " 5   Target Name        13758 non-null  object \n",
      " 6   Target Organism    11600 non-null  object \n",
      " 7   Target Type        13758 non-null  object \n",
      " 8   Assay Description  13758 non-null  object \n",
      "dtypes: float64(1), object(8)\n",
      "memory usage: 967.5+ KB\n"
     ]
    }
   ],
   "source": [
    "df.info()"
   ]
  },
  {
   "cell_type": "code",
   "execution_count": 8,
   "metadata": {},
   "outputs": [
    {
     "data": {
      "text/plain": [
       "Smiles                127\n",
       "Standard Type           0\n",
       "Standard Relation     601\n",
       "Standard Value        614\n",
       "Standard Units        532\n",
       "Target Name             0\n",
       "Target Organism      2158\n",
       "Target Type             0\n",
       "Assay Description       0\n",
       "dtype: int64"
      ]
     },
     "execution_count": 8,
     "metadata": {},
     "output_type": "execute_result"
    }
   ],
   "source": [
    "# Посмотрим на количество пропусков в данных\n",
    "df.isna().sum() "
   ]
  },
  {
   "cell_type": "code",
   "execution_count": 9,
   "metadata": {},
   "outputs": [
    {
     "name": "stdout",
     "output_type": "stream",
     "text": [
      "66\n"
     ]
    }
   ],
   "source": [
    "# Проверим, есть ли в датасете полные дубли\n",
    "duplicates = df.duplicated()\n",
    "duplicated_rows = df[duplicates]\n",
    "print(duplicates.sum()) # видно, что в датасете есть 66 строк, которые являются дублями\n",
    "# Удалим их\n",
    "df.drop_duplicates(inplace=True)"
   ]
  },
  {
   "cell_type": "code",
   "execution_count": 12,
   "metadata": {},
   "outputs": [
    {
     "name": "stdout",
     "output_type": "stream",
     "text": [
      "<class 'pandas.core.frame.DataFrame'>\n",
      "Index: 12972 entries, 0 to 13757\n",
      "Data columns (total 9 columns):\n",
      " #   Column             Non-Null Count  Dtype  \n",
      "---  ------             --------------  -----  \n",
      " 0   Smiles             12972 non-null  object \n",
      " 1   Standard Type      12972 non-null  object \n",
      " 2   Standard Relation  12971 non-null  object \n",
      " 3   Standard Value     12972 non-null  float64\n",
      " 4   Standard Units     12921 non-null  object \n",
      " 5   Target Name        12972 non-null  object \n",
      " 6   Target Organism    11030 non-null  object \n",
      " 7   Target Type        12972 non-null  object \n",
      " 8   Assay Description  12972 non-null  object \n",
      "dtypes: float64(1), object(8)\n",
      "memory usage: 1013.4+ KB\n"
     ]
    }
   ],
   "source": [
    "# Удалим строки, для которых отсутствуют значения LD50\n",
    "df = df[pd.notna(df['Standard Value'])]\n",
    "# Удалим строки, для которых отсутствуют значения Smiles\n",
    "df = df[pd.notna(df['Smiles'])]\n",
    "# Посмотрим на результат\n",
    "df.info()"
   ]
  },
  {
   "cell_type": "markdown",
   "metadata": {},
   "source": [
    "Значения LD50 для различных соединений приведены в различных единицах измерения. Отфильтруем только те, что привдены в mg/kg"
   ]
  },
  {
   "cell_type": "code",
   "execution_count": 14,
   "metadata": {},
   "outputs": [],
   "source": [
    "df = df[df['Standard Units'] == 'mg.kg-1']"
   ]
  },
  {
   "cell_type": "code",
   "execution_count": 17,
   "metadata": {},
   "outputs": [
    {
     "data": {
      "text/plain": [
       "(6554, 9)"
      ]
     },
     "execution_count": 17,
     "metadata": {},
     "output_type": "execute_result"
    }
   ],
   "source": [
    "df.shape # осталось всего 6554 строки"
   ]
  },
  {
   "cell_type": "code",
   "execution_count": 20,
   "metadata": {},
   "outputs": [],
   "source": [
    "# Экспортируем предобработанный датасет в новый csv файл\n",
    "df.to_csv('../data/raw/ChEMBL_LD50_preprocessed.csv')"
   ]
  }
 ],
 "metadata": {
  "kernelspec": {
   "display_name": "Python 3",
   "language": "python",
   "name": "python3"
  },
  "language_info": {
   "codemirror_mode": {
    "name": "ipython",
    "version": 3
   },
   "file_extension": ".py",
   "mimetype": "text/x-python",
   "name": "python",
   "nbconvert_exporter": "python",
   "pygments_lexer": "ipython3",
   "version": "3.12.5"
  }
 },
 "nbformat": 4,
 "nbformat_minor": 2
}
