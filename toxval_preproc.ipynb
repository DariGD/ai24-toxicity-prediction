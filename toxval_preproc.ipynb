{
 "cells": [
  {
   "cell_type": "markdown",
   "id": "45a7d37e",
   "metadata": {},
   "source": [
    "### Цель: привести данные к одному формату\n",
    "\n",
    "Источник - - Название исходного источника, откуда это наблюдение\n",
    "\n",
    "\n",
    "Smiles\t-- Уникальный идентификатор химического соединения, подробнее тут\n",
    "\n",
    "\n",
    "Exp. Animal\t-- Животное, на котором проводился эксперимент\n",
    "\n",
    "\n",
    "method of administration -- Способ введения препарата\n",
    "\n",
    "\n",
    "Metric_1 -- \tЗначение метрики в общих единицах измерениях\n",
    "\n",
    "\n",
    "Metric_1 (a.u)\t-- Единицы измерения метрики 1\n"
   ]
  },
  {
   "cell_type": "code",
   "execution_count": 1,
   "id": "9a4858d0",
   "metadata": {},
   "outputs": [],
   "source": [
    "import pandas as pd"
   ]
  },
  {
   "cell_type": "code",
   "execution_count": 2,
   "id": "97b839f0",
   "metadata": {},
   "outputs": [],
   "source": [
    "data = pd.read_csv('tox_merged_main.csv')"
   ]
  },
  {
   "cell_type": "code",
   "execution_count": 3,
   "id": "cc65eda3",
   "metadata": {},
   "outputs": [
    {
     "data": {
      "text/html": [
       "<div>\n",
       "<style scoped>\n",
       "    .dataframe tbody tr th:only-of-type {\n",
       "        vertical-align: middle;\n",
       "    }\n",
       "\n",
       "    .dataframe tbody tr th {\n",
       "        vertical-align: top;\n",
       "    }\n",
       "\n",
       "    .dataframe thead th {\n",
       "        text-align: right;\n",
       "    }\n",
       "</style>\n",
       "<table border=\"1\" class=\"dataframe\">\n",
       "  <thead>\n",
       "    <tr style=\"text-align: right;\">\n",
       "      <th></th>\n",
       "      <th>CAS</th>\n",
       "      <th>SMILES</th>\n",
       "    </tr>\n",
       "  </thead>\n",
       "  <tbody>\n",
       "    <tr>\n",
       "      <th>0</th>\n",
       "      <td>30560-22-6</td>\n",
       "      <td>CCCCCCCCCC(=O)NP(=O)(OC)SC</td>\n",
       "    </tr>\n",
       "    <tr>\n",
       "      <th>1</th>\n",
       "      <td>67466-14-2</td>\n",
       "      <td>CCCCCC1=CN=C2C(=C1C)C(=NC(=N2)N)N</td>\n",
       "    </tr>\n",
       "    <tr>\n",
       "      <th>2</th>\n",
       "      <td>57648-21-2</td>\n",
       "      <td>C1CN(CCC1N2C3=CC=CC=C3NC2=S)CCCC(=O)C4=CC=C(C=...</td>\n",
       "    </tr>\n",
       "    <tr>\n",
       "      <th>3</th>\n",
       "      <td>1165-48-6</td>\n",
       "      <td>CC1=C(OC2=C(C1=O)C=CC(=C2CN(C)C)OC)C3=CC=CC=C3</td>\n",
       "    </tr>\n",
       "    <tr>\n",
       "      <th>4</th>\n",
       "      <td>31906-04-4</td>\n",
       "      <td>CC(C)(CCCC1=CCC(CC1)C=O)O</td>\n",
       "    </tr>\n",
       "  </tbody>\n",
       "</table>\n",
       "</div>"
      ],
      "text/plain": [
       "          CAS                                             SMILES\n",
       "0  30560-22-6                         CCCCCCCCCC(=O)NP(=O)(OC)SC\n",
       "1  67466-14-2                  CCCCCC1=CN=C2C(=C1C)C(=NC(=N2)N)N\n",
       "2  57648-21-2  C1CN(CCC1N2C3=CC=CC=C3NC2=S)CCCC(=O)C4=CC=C(C=...\n",
       "3   1165-48-6     CC1=C(OC2=C(C1=O)C=CC(=C2CN(C)C)OC)C3=CC=CC=C3\n",
       "4  31906-04-4                          CC(C)(CCCC1=CCC(CC1)C=O)O"
      ]
     },
     "execution_count": 3,
     "metadata": {},
     "output_type": "execute_result"
    }
   ],
   "source": [
    "data.head()"
   ]
  },
  {
   "cell_type": "code",
   "execution_count": 4,
   "id": "a144461d",
   "metadata": {},
   "outputs": [
    {
     "data": {
      "text/plain": [
       "32244"
      ]
     },
     "execution_count": 4,
     "metadata": {},
     "output_type": "execute_result"
    }
   ],
   "source": [
    "data['SMILES'].nunique()"
   ]
  },
  {
   "cell_type": "code",
   "execution_count": 5,
   "id": "aecc590b",
   "metadata": {},
   "outputs": [],
   "source": [
    "df = pd.read_csv(r'C:\\Users\\Vlad\\Downloads\\tox_merged.csv')"
   ]
  },
  {
   "cell_type": "code",
   "execution_count": 6,
   "id": "7f9b9bfc",
   "metadata": {},
   "outputs": [
    {
     "data": {
      "text/html": [
       "<div>\n",
       "<style scoped>\n",
       "    .dataframe tbody tr th:only-of-type {\n",
       "        vertical-align: middle;\n",
       "    }\n",
       "\n",
       "    .dataframe tbody tr th {\n",
       "        vertical-align: top;\n",
       "    }\n",
       "\n",
       "    .dataframe thead th {\n",
       "        text-align: right;\n",
       "    }\n",
       "</style>\n",
       "<table border=\"1\" class=\"dataframe\">\n",
       "  <thead>\n",
       "    <tr style=\"text-align: right;\">\n",
       "      <th></th>\n",
       "      <th>CAS</th>\n",
       "      <th>TOXVAL_TYPE</th>\n",
       "      <th>TOXVAL_NUMERIC</th>\n",
       "      <th>TOXVAL_UNITS</th>\n",
       "      <th>SPECIES_COMMON</th>\n",
       "      <th>EXPOSURE_ROUTE</th>\n",
       "      <th>smiles</th>\n",
       "    </tr>\n",
       "  </thead>\n",
       "  <tbody>\n",
       "    <tr>\n",
       "      <th>0</th>\n",
       "      <td>129318-43-0</td>\n",
       "      <td>LD50</td>\n",
       "      <td>552.00</td>\n",
       "      <td>mg/kg</td>\n",
       "      <td>Rat</td>\n",
       "      <td>oral</td>\n",
       "      <td>C(CC(O)(P(=O)(O)O)P(=O)(O)[O-])CN.[Na+]</td>\n",
       "    </tr>\n",
       "    <tr>\n",
       "      <th>1</th>\n",
       "      <td>129927-33-9</td>\n",
       "      <td>LD50</td>\n",
       "      <td>735.00</td>\n",
       "      <td>mg/kg</td>\n",
       "      <td>Rat</td>\n",
       "      <td>oral</td>\n",
       "      <td>CCN(CC)CC#CC(C)(C)OC(=O)C(C1CCCCC1)(C2=CC=CC=C...</td>\n",
       "    </tr>\n",
       "    <tr>\n",
       "      <th>2</th>\n",
       "      <td>130209-82-4</td>\n",
       "      <td>LD50</td>\n",
       "      <td>0.05</td>\n",
       "      <td>mg/kg</td>\n",
       "      <td>Rat</td>\n",
       "      <td>oral</td>\n",
       "      <td>CC(C)OC(=O)CCCC=CCC1C(CC(C1CCC(CCC2=CC=CC=C2)O...</td>\n",
       "    </tr>\n",
       "    <tr>\n",
       "      <th>3</th>\n",
       "      <td>130365-34-3</td>\n",
       "      <td>LD50</td>\n",
       "      <td>250.00</td>\n",
       "      <td>mg/kg</td>\n",
       "      <td>Rat</td>\n",
       "      <td>oral</td>\n",
       "      <td>CCCCCCCCCCCCCCCCNP1(=S)OCC2=C(O1)C=CC(=C2)[N+]...</td>\n",
       "    </tr>\n",
       "    <tr>\n",
       "      <th>4</th>\n",
       "      <td>130365-35-4</td>\n",
       "      <td>LD50</td>\n",
       "      <td>250.00</td>\n",
       "      <td>mg/kg</td>\n",
       "      <td>Rat</td>\n",
       "      <td>oral</td>\n",
       "      <td>CCCCCCCCCCCCCCCNP1(=S)OCC2=C(O1)C=CC(=C2)[N+](...</td>\n",
       "    </tr>\n",
       "  </tbody>\n",
       "</table>\n",
       "</div>"
      ],
      "text/plain": [
       "           CAS TOXVAL_TYPE  TOXVAL_NUMERIC TOXVAL_UNITS SPECIES_COMMON  \\\n",
       "0  129318-43-0        LD50          552.00        mg/kg            Rat   \n",
       "1  129927-33-9        LD50          735.00        mg/kg            Rat   \n",
       "2  130209-82-4        LD50            0.05        mg/kg            Rat   \n",
       "3  130365-34-3        LD50          250.00        mg/kg            Rat   \n",
       "4  130365-35-4        LD50          250.00        mg/kg            Rat   \n",
       "\n",
       "  EXPOSURE_ROUTE                                             smiles  \n",
       "0           oral            C(CC(O)(P(=O)(O)O)P(=O)(O)[O-])CN.[Na+]  \n",
       "1           oral  CCN(CC)CC#CC(C)(C)OC(=O)C(C1CCCCC1)(C2=CC=CC=C...  \n",
       "2           oral  CC(C)OC(=O)CCCC=CCC1C(CC(C1CCC(CCC2=CC=CC=C2)O...  \n",
       "3           oral  CCCCCCCCCCCCCCCCNP1(=S)OCC2=C(O1)C=CC(=C2)[N+]...  \n",
       "4           oral  CCCCCCCCCCCCCCCNP1(=S)OCC2=C(O1)C=CC(=C2)[N+](...  "
      ]
     },
     "execution_count": 6,
     "metadata": {},
     "output_type": "execute_result"
    }
   ],
   "source": [
    "df = df.rename(columns = {'CASRN':'CAS'})\n",
    "df.head()"
   ]
  },
  {
   "cell_type": "code",
   "execution_count": 7,
   "id": "6ea934d3",
   "metadata": {},
   "outputs": [],
   "source": [
    "new_df = pd.merge(df, data, on = 'CAS', how = 'left')"
   ]
  },
  {
   "cell_type": "code",
   "execution_count": 8,
   "id": "bbfd5724",
   "metadata": {},
   "outputs": [],
   "source": [
    "new_df.drop('smiles', axis=1, inplace=True)"
   ]
  },
  {
   "cell_type": "code",
   "execution_count": 9,
   "id": "13ae0e2f",
   "metadata": {},
   "outputs": [
    {
     "data": {
      "text/html": [
       "<div>\n",
       "<style scoped>\n",
       "    .dataframe tbody tr th:only-of-type {\n",
       "        vertical-align: middle;\n",
       "    }\n",
       "\n",
       "    .dataframe tbody tr th {\n",
       "        vertical-align: top;\n",
       "    }\n",
       "\n",
       "    .dataframe thead th {\n",
       "        text-align: right;\n",
       "    }\n",
       "</style>\n",
       "<table border=\"1\" class=\"dataframe\">\n",
       "  <thead>\n",
       "    <tr style=\"text-align: right;\">\n",
       "      <th></th>\n",
       "      <th>CAS</th>\n",
       "      <th>TOXVAL_TYPE</th>\n",
       "      <th>TOXVAL_NUMERIC</th>\n",
       "      <th>TOXVAL_UNITS</th>\n",
       "      <th>SPECIES_COMMON</th>\n",
       "      <th>EXPOSURE_ROUTE</th>\n",
       "      <th>SMILES</th>\n",
       "    </tr>\n",
       "  </thead>\n",
       "  <tbody>\n",
       "    <tr>\n",
       "      <th>0</th>\n",
       "      <td>129318-43-0</td>\n",
       "      <td>LD50</td>\n",
       "      <td>552.00</td>\n",
       "      <td>mg/kg</td>\n",
       "      <td>Rat</td>\n",
       "      <td>oral</td>\n",
       "      <td>C(CC(O)(P(=O)(O)O)P(=O)(O)[O-])CN.[Na+]</td>\n",
       "    </tr>\n",
       "    <tr>\n",
       "      <th>1</th>\n",
       "      <td>129927-33-9</td>\n",
       "      <td>LD50</td>\n",
       "      <td>735.00</td>\n",
       "      <td>mg/kg</td>\n",
       "      <td>Rat</td>\n",
       "      <td>oral</td>\n",
       "      <td>CCN(CC)CC#CC(C)(C)OC(=O)C(C1CCCCC1)(C2=CC=CC=C...</td>\n",
       "    </tr>\n",
       "    <tr>\n",
       "      <th>2</th>\n",
       "      <td>130209-82-4</td>\n",
       "      <td>LD50</td>\n",
       "      <td>0.05</td>\n",
       "      <td>mg/kg</td>\n",
       "      <td>Rat</td>\n",
       "      <td>oral</td>\n",
       "      <td>CC(C)OC(=O)CCCC=CCC1C(CC(C1CCC(CCC2=CC=CC=C2)O...</td>\n",
       "    </tr>\n",
       "    <tr>\n",
       "      <th>3</th>\n",
       "      <td>130365-34-3</td>\n",
       "      <td>LD50</td>\n",
       "      <td>250.00</td>\n",
       "      <td>mg/kg</td>\n",
       "      <td>Rat</td>\n",
       "      <td>oral</td>\n",
       "      <td>CCCCCCCCCCCCCCCCNP1(=S)OCC2=C(O1)C=CC(=C2)[N+]...</td>\n",
       "    </tr>\n",
       "    <tr>\n",
       "      <th>4</th>\n",
       "      <td>130365-35-4</td>\n",
       "      <td>LD50</td>\n",
       "      <td>250.00</td>\n",
       "      <td>mg/kg</td>\n",
       "      <td>Rat</td>\n",
       "      <td>oral</td>\n",
       "      <td>CCCCCCCCCCCCCCCNP1(=S)OCC2=C(O1)C=CC(=C2)[N+](...</td>\n",
       "    </tr>\n",
       "  </tbody>\n",
       "</table>\n",
       "</div>"
      ],
      "text/plain": [
       "           CAS TOXVAL_TYPE  TOXVAL_NUMERIC TOXVAL_UNITS SPECIES_COMMON  \\\n",
       "0  129318-43-0        LD50          552.00        mg/kg            Rat   \n",
       "1  129927-33-9        LD50          735.00        mg/kg            Rat   \n",
       "2  130209-82-4        LD50            0.05        mg/kg            Rat   \n",
       "3  130365-34-3        LD50          250.00        mg/kg            Rat   \n",
       "4  130365-35-4        LD50          250.00        mg/kg            Rat   \n",
       "\n",
       "  EXPOSURE_ROUTE                                             SMILES  \n",
       "0           oral            C(CC(O)(P(=O)(O)O)P(=O)(O)[O-])CN.[Na+]  \n",
       "1           oral  CCN(CC)CC#CC(C)(C)OC(=O)C(C1CCCCC1)(C2=CC=CC=C...  \n",
       "2           oral  CC(C)OC(=O)CCCC=CCC1C(CC(C1CCC(CCC2=CC=CC=C2)O...  \n",
       "3           oral  CCCCCCCCCCCCCCCCNP1(=S)OCC2=C(O1)C=CC(=C2)[N+]...  \n",
       "4           oral  CCCCCCCCCCCCCCCNP1(=S)OCC2=C(O1)C=CC(=C2)[N+](...  "
      ]
     },
     "execution_count": 9,
     "metadata": {},
     "output_type": "execute_result"
    }
   ],
   "source": [
    "new_df.head()"
   ]
  },
  {
   "cell_type": "code",
   "execution_count": 10,
   "id": "77d9d4e6",
   "metadata": {},
   "outputs": [
    {
     "data": {
      "text/plain": [
       "(55971, 6)"
      ]
     },
     "execution_count": 10,
     "metadata": {},
     "output_type": "execute_result"
    }
   ],
   "source": [
    "LD_50 = new_df[new_df['TOXVAL_TYPE'] == 'LD50'].reset_index()\n",
    "LD_50 = LD_50.rename(columns = {'TOXVAL_NUMERIC':'LD_50', 'TOXVAL_UNITS': 'LD_50 (a.u)', 'SPECIES_COMMON':'Exp. Animal', 'EXPOSURE_ROUTE':'method of administration', 'TOXVAL_TYPE' : 'LD50', 'SMILES':'smiles'})\n",
    "LD_50 = LD_50.drop(['LD50', 'CAS'], axis=1)\n",
    "LD_50.shape"
   ]
  },
  {
   "cell_type": "code",
   "execution_count": 11,
   "id": "111d2f47",
   "metadata": {},
   "outputs": [],
   "source": [
    "new_order = ['smiles', 'Exp. Animal', 'method of administration', 'LD_50', 'LD_50 (a.u)']\n",
    "\n",
    "LD_50 = LD_50[new_order]"
   ]
  },
  {
   "cell_type": "code",
   "execution_count": 12,
   "id": "5095f672",
   "metadata": {},
   "outputs": [
    {
     "data": {
      "text/html": [
       "<div>\n",
       "<style scoped>\n",
       "    .dataframe tbody tr th:only-of-type {\n",
       "        vertical-align: middle;\n",
       "    }\n",
       "\n",
       "    .dataframe tbody tr th {\n",
       "        vertical-align: top;\n",
       "    }\n",
       "\n",
       "    .dataframe thead th {\n",
       "        text-align: right;\n",
       "    }\n",
       "</style>\n",
       "<table border=\"1\" class=\"dataframe\">\n",
       "  <thead>\n",
       "    <tr style=\"text-align: right;\">\n",
       "      <th></th>\n",
       "      <th>smiles</th>\n",
       "      <th>Exp. Animal</th>\n",
       "      <th>method of administration</th>\n",
       "      <th>LD_50</th>\n",
       "      <th>LD_50 (a.u)</th>\n",
       "    </tr>\n",
       "  </thead>\n",
       "  <tbody>\n",
       "    <tr>\n",
       "      <th>0</th>\n",
       "      <td>C(CC(O)(P(=O)(O)O)P(=O)(O)[O-])CN.[Na+]</td>\n",
       "      <td>Rat</td>\n",
       "      <td>oral</td>\n",
       "      <td>552.00</td>\n",
       "      <td>mg/kg</td>\n",
       "    </tr>\n",
       "    <tr>\n",
       "      <th>1</th>\n",
       "      <td>CCN(CC)CC#CC(C)(C)OC(=O)C(C1CCCCC1)(C2=CC=CC=C...</td>\n",
       "      <td>Rat</td>\n",
       "      <td>oral</td>\n",
       "      <td>735.00</td>\n",
       "      <td>mg/kg</td>\n",
       "    </tr>\n",
       "    <tr>\n",
       "      <th>2</th>\n",
       "      <td>CC(C)OC(=O)CCCC=CCC1C(CC(C1CCC(CCC2=CC=CC=C2)O...</td>\n",
       "      <td>Rat</td>\n",
       "      <td>oral</td>\n",
       "      <td>0.05</td>\n",
       "      <td>mg/kg</td>\n",
       "    </tr>\n",
       "    <tr>\n",
       "      <th>3</th>\n",
       "      <td>CCCCCCCCCCCCCCCCNP1(=S)OCC2=C(O1)C=CC(=C2)[N+]...</td>\n",
       "      <td>Rat</td>\n",
       "      <td>oral</td>\n",
       "      <td>250.00</td>\n",
       "      <td>mg/kg</td>\n",
       "    </tr>\n",
       "    <tr>\n",
       "      <th>4</th>\n",
       "      <td>CCCCCCCCCCCCCCCNP1(=S)OCC2=C(O1)C=CC(=C2)[N+](...</td>\n",
       "      <td>Rat</td>\n",
       "      <td>oral</td>\n",
       "      <td>250.00</td>\n",
       "      <td>mg/kg</td>\n",
       "    </tr>\n",
       "  </tbody>\n",
       "</table>\n",
       "</div>"
      ],
      "text/plain": [
       "                                              smiles Exp. Animal  \\\n",
       "0            C(CC(O)(P(=O)(O)O)P(=O)(O)[O-])CN.[Na+]         Rat   \n",
       "1  CCN(CC)CC#CC(C)(C)OC(=O)C(C1CCCCC1)(C2=CC=CC=C...         Rat   \n",
       "2  CC(C)OC(=O)CCCC=CCC1C(CC(C1CCC(CCC2=CC=CC=C2)O...         Rat   \n",
       "3  CCCCCCCCCCCCCCCCNP1(=S)OCC2=C(O1)C=CC(=C2)[N+]...         Rat   \n",
       "4  CCCCCCCCCCCCCCCNP1(=S)OCC2=C(O1)C=CC(=C2)[N+](...         Rat   \n",
       "\n",
       "  method of administration   LD_50 LD_50 (a.u)  \n",
       "0                     oral  552.00       mg/kg  \n",
       "1                     oral  735.00       mg/kg  \n",
       "2                     oral    0.05       mg/kg  \n",
       "3                     oral  250.00       mg/kg  \n",
       "4                     oral  250.00       mg/kg  "
      ]
     },
     "execution_count": 12,
     "metadata": {},
     "output_type": "execute_result"
    }
   ],
   "source": [
    "LD_50.head()"
   ]
  },
  {
   "cell_type": "code",
   "execution_count": 13,
   "id": "ef5e5731",
   "metadata": {},
   "outputs": [
    {
     "data": {
      "text/plain": [
       "LD_50 (a.u)\n",
       "mg/kg       55170\n",
       "mL/kg         765\n",
       "IU/kg          32\n",
       "units/kg        4\n",
       "Name: LD_50 (a.u), dtype: int64"
      ]
     },
     "execution_count": 13,
     "metadata": {},
     "output_type": "execute_result"
    }
   ],
   "source": [
    "LD_50.groupby('LD_50 (a.u)')['LD_50 (a.u)'].count().sort_values(ascending = False)"
   ]
  },
  {
   "cell_type": "code",
   "execution_count": 14,
   "id": "fa8c0300",
   "metadata": {},
   "outputs": [],
   "source": [
    "for index, row in LD_50.iterrows():\n",
    "    if 'mg/kg' in row['LD_50 (a.u)']:\n",
    "        LD_50.at[index, 'LD_50 (a.u)'] = row['LD_50 (a.u)'].replace('mg/kg', 'mg.kg-1')"
   ]
  },
  {
   "cell_type": "code",
   "execution_count": 15,
   "id": "4f66848d",
   "metadata": {},
   "outputs": [
    {
     "data": {
      "text/plain": [
       "LD_50 (a.u)\n",
       "mg.kg-1     55170\n",
       "mL/kg         765\n",
       "IU/kg          32\n",
       "units/kg        4\n",
       "Name: LD_50 (a.u), dtype: int64"
      ]
     },
     "execution_count": 15,
     "metadata": {},
     "output_type": "execute_result"
    }
   ],
   "source": [
    "LD_50.groupby('LD_50 (a.u)')['LD_50 (a.u)'].count().sort_values(ascending = False)"
   ]
  },
  {
   "cell_type": "code",
   "execution_count": 16,
   "id": "e5fe9f85",
   "metadata": {},
   "outputs": [],
   "source": [
    "LD_50 = LD_50[~LD_50['LD_50 (a.u)'].isin(['mL/kg', 'IU/kg', 'units/kg'])]"
   ]
  },
  {
   "cell_type": "code",
   "execution_count": 17,
   "id": "a6609db0",
   "metadata": {},
   "outputs": [
    {
     "data": {
      "text/plain": [
       "LD_50 (a.u)\n",
       "mg.kg-1    55170\n",
       "Name: LD_50 (a.u), dtype: int64"
      ]
     },
     "execution_count": 17,
     "metadata": {},
     "output_type": "execute_result"
    }
   ],
   "source": [
    "LD_50.groupby('LD_50 (a.u)')['LD_50 (a.u)'].count().sort_values(ascending = False)"
   ]
  },
  {
   "cell_type": "code",
   "execution_count": 18,
   "id": "96311ce6",
   "metadata": {},
   "outputs": [
    {
     "data": {
      "text/plain": [
       "(1983, 6)"
      ]
     },
     "execution_count": 18,
     "metadata": {},
     "output_type": "execute_result"
    }
   ],
   "source": [
    "LC_50 = new_df[new_df['TOXVAL_TYPE'] == 'LC50'].reset_index()\n",
    "LC_50 = LC_50.rename(columns = {'TOXVAL_NUMERIC':'LC_50', 'TOXVAL_UNITS': 'LC_50 (a.u)', 'SPECIES_COMMON':'Exp. Animal', 'EXPOSURE_ROUTE':'method of administration', 'TOXVAL_TYPE' : 'LC50', 'SMILES':'smiles'})\n",
    "LC_50 = LC_50.drop(['LC50', 'CAS'], axis=1)\n",
    "LC_50.shape"
   ]
  },
  {
   "cell_type": "code",
   "execution_count": 19,
   "id": "2be52659",
   "metadata": {},
   "outputs": [],
   "source": [
    "new_order_1 = ['smiles', 'Exp. Animal', 'method of administration', 'LC_50', 'LC_50 (a.u)']\n",
    "\n",
    "LC_50 = LC_50[new_order_1]"
   ]
  },
  {
   "cell_type": "code",
   "execution_count": 20,
   "id": "a53283c9",
   "metadata": {},
   "outputs": [
    {
     "data": {
      "text/plain": [
       "LC_50 (a.u)\n",
       "mg/L     1477\n",
       "mg/m3     495\n",
       "mg/kg       6\n",
       "ppm         5\n",
       "Name: LC_50 (a.u), dtype: int64"
      ]
     },
     "execution_count": 20,
     "metadata": {},
     "output_type": "execute_result"
    }
   ],
   "source": [
    "LC_50.groupby('LC_50 (a.u)')['LC_50 (a.u)'].count().sort_values(ascending = False)"
   ]
  },
  {
   "cell_type": "code",
   "execution_count": 21,
   "id": "5668bc35",
   "metadata": {},
   "outputs": [
    {
     "data": {
      "text/html": [
       "<div>\n",
       "<style scoped>\n",
       "    .dataframe tbody tr th:only-of-type {\n",
       "        vertical-align: middle;\n",
       "    }\n",
       "\n",
       "    .dataframe tbody tr th {\n",
       "        vertical-align: top;\n",
       "    }\n",
       "\n",
       "    .dataframe thead th {\n",
       "        text-align: right;\n",
       "    }\n",
       "</style>\n",
       "<table border=\"1\" class=\"dataframe\">\n",
       "  <thead>\n",
       "    <tr style=\"text-align: right;\">\n",
       "      <th></th>\n",
       "      <th>smiles</th>\n",
       "      <th>Exp. Animal</th>\n",
       "      <th>method of administration</th>\n",
       "      <th>LC_50</th>\n",
       "      <th>LC_50 (a.u)</th>\n",
       "    </tr>\n",
       "  </thead>\n",
       "  <tbody>\n",
       "    <tr>\n",
       "      <th>0</th>\n",
       "      <td>C=O</td>\n",
       "      <td>Mouse</td>\n",
       "      <td>inhalation</td>\n",
       "      <td>454.0000</td>\n",
       "      <td>mg/L</td>\n",
       "    </tr>\n",
       "    <tr>\n",
       "      <th>1</th>\n",
       "      <td>C=O</td>\n",
       "      <td>Rat</td>\n",
       "      <td>inhalation</td>\n",
       "      <td>0.2030</td>\n",
       "      <td>mg/L</td>\n",
       "    </tr>\n",
       "    <tr>\n",
       "      <th>2</th>\n",
       "      <td>CN(C)CCCN1C2=CC=CC=C2SC3=C1C=C(C=C3)Cl</td>\n",
       "      <td>Mouse</td>\n",
       "      <td>inhalation</td>\n",
       "      <td>0.1045</td>\n",
       "      <td>mg/L</td>\n",
       "    </tr>\n",
       "    <tr>\n",
       "      <th>3</th>\n",
       "      <td>CN(C)CCCN1C2=CC=CC=C2SC3=C1C=C(C=C3)Cl</td>\n",
       "      <td>Rat</td>\n",
       "      <td>inhalation</td>\n",
       "      <td>0.1045</td>\n",
       "      <td>mg/L</td>\n",
       "    </tr>\n",
       "    <tr>\n",
       "      <th>4</th>\n",
       "      <td>CC(C)NCC(C1=CC(=C(C=C1)O)O)O.Cl</td>\n",
       "      <td>Mouse</td>\n",
       "      <td>inhalation</td>\n",
       "      <td>10.0000</td>\n",
       "      <td>mg/L</td>\n",
       "    </tr>\n",
       "  </tbody>\n",
       "</table>\n",
       "</div>"
      ],
      "text/plain": [
       "                                   smiles Exp. Animal  \\\n",
       "0                                     C=O       Mouse   \n",
       "1                                     C=O         Rat   \n",
       "2  CN(C)CCCN1C2=CC=CC=C2SC3=C1C=C(C=C3)Cl       Mouse   \n",
       "3  CN(C)CCCN1C2=CC=CC=C2SC3=C1C=C(C=C3)Cl         Rat   \n",
       "4         CC(C)NCC(C1=CC(=C(C=C1)O)O)O.Cl       Mouse   \n",
       "\n",
       "  method of administration     LC_50 LC_50 (a.u)  \n",
       "0               inhalation  454.0000        mg/L  \n",
       "1               inhalation    0.2030        mg/L  \n",
       "2               inhalation    0.1045        mg/L  \n",
       "3               inhalation    0.1045        mg/L  \n",
       "4               inhalation   10.0000        mg/L  "
      ]
     },
     "execution_count": 21,
     "metadata": {},
     "output_type": "execute_result"
    }
   ],
   "source": [
    "LC_50.head()"
   ]
  },
  {
   "cell_type": "code",
   "execution_count": 22,
   "id": "6c31bec3",
   "metadata": {},
   "outputs": [],
   "source": [
    "for index, row in LC_50.iterrows():\n",
    "    if 'mg/kg' in row['LC_50 (a.u)']:\n",
    "        LC_50.at[index, 'LC_50 (a.u)'] = row['LC_50 (a.u)'].replace('mg/kg', 'mg.kg-1')\n",
    "    elif 'mg/L' in row['LC_50 (a.u)']:\n",
    "        LC_50.at[index, 'LC_50 (a.u)'] = row['LC_50 (a.u)'].replace('mg/L', 'mg.L')\n",
    "    elif 'ppm' in row['LC_50 (a.u)']:\n",
    "        LC_50.at[index, 'LC_50 (a.u)'] = row['LC_50 (a.u)'].replace('ppm', 'mg.kg-1')"
   ]
  },
  {
   "cell_type": "code",
   "execution_count": 23,
   "id": "27b2e4c3",
   "metadata": {},
   "outputs": [],
   "source": [
    "LC_50 = LC_50[~LC_50['LC_50 (a.u)'].isin(['mg/m3'])]"
   ]
  },
  {
   "cell_type": "code",
   "execution_count": 24,
   "id": "f6f8636c",
   "metadata": {},
   "outputs": [
    {
     "data": {
      "text/plain": [
       "LC_50 (a.u)\n",
       "mg.L       1477\n",
       "mg.kg-1      11\n",
       "Name: LC_50 (a.u), dtype: int64"
      ]
     },
     "execution_count": 24,
     "metadata": {},
     "output_type": "execute_result"
    }
   ],
   "source": [
    "LC_50.groupby('LC_50 (a.u)')['LC_50 (a.u)'].count().sort_values(ascending = False)"
   ]
  },
  {
   "cell_type": "code",
   "execution_count": 25,
   "id": "e13fa1bd",
   "metadata": {},
   "outputs": [
    {
     "data": {
      "text/plain": [
       "(13886, 6)"
      ]
     },
     "execution_count": 25,
     "metadata": {},
     "output_type": "execute_result"
    }
   ],
   "source": [
    "NOAEL = new_df[new_df['TOXVAL_TYPE'] == 'NOAEL'].reset_index()\n",
    "NOAEL = NOAEL.rename(columns = {'TOXVAL_NUMERIC':'NOAEL', 'TOXVAL_UNITS': 'NOAEL (a.u)', 'SPECIES_COMMON':'Exp. Animal', 'EXPOSURE_ROUTE':'method of administration', 'TOXVAL_TYPE' : 'NOAEL_', 'SMILES':'smiles'})\n",
    "NOAEL = NOAEL.drop(['NOAEL_', 'CAS'], axis=1)\n",
    "NOAEL.shape"
   ]
  },
  {
   "cell_type": "code",
   "execution_count": 26,
   "id": "2a89e596",
   "metadata": {},
   "outputs": [],
   "source": [
    "new_order_1 = ['smiles', 'Exp. Animal', 'method of administration', 'NOAEL', 'NOAEL (a.u)']\n",
    "\n",
    "NOAEL = NOAEL[new_order_1]"
   ]
  },
  {
   "cell_type": "code",
   "execution_count": 27,
   "id": "eff45447",
   "metadata": {},
   "outputs": [
    {
     "data": {
      "text/html": [
       "<div>\n",
       "<style scoped>\n",
       "    .dataframe tbody tr th:only-of-type {\n",
       "        vertical-align: middle;\n",
       "    }\n",
       "\n",
       "    .dataframe tbody tr th {\n",
       "        vertical-align: top;\n",
       "    }\n",
       "\n",
       "    .dataframe thead th {\n",
       "        text-align: right;\n",
       "    }\n",
       "</style>\n",
       "<table border=\"1\" class=\"dataframe\">\n",
       "  <thead>\n",
       "    <tr style=\"text-align: right;\">\n",
       "      <th></th>\n",
       "      <th>smiles</th>\n",
       "      <th>Exp. Animal</th>\n",
       "      <th>method of administration</th>\n",
       "      <th>NOAEL</th>\n",
       "      <th>NOAEL (a.u)</th>\n",
       "    </tr>\n",
       "  </thead>\n",
       "  <tbody>\n",
       "    <tr>\n",
       "      <th>0</th>\n",
       "      <td>CCCCOCCO</td>\n",
       "      <td>Mouse</td>\n",
       "      <td>dermal</td>\n",
       "      <td>1000.0</td>\n",
       "      <td>mg/kg-day</td>\n",
       "    </tr>\n",
       "    <tr>\n",
       "      <th>1</th>\n",
       "      <td>[O-]S(=O)(=O)[O-].[O-]S(=O)(=O)[O-].[O-]S(=O)(...</td>\n",
       "      <td>Rat</td>\n",
       "      <td>oral</td>\n",
       "      <td>10265.0</td>\n",
       "      <td>mg/kg-day</td>\n",
       "    </tr>\n",
       "    <tr>\n",
       "      <th>2</th>\n",
       "      <td>CCCCCCCC[Sn](=O)CCCCCCCC</td>\n",
       "      <td>Rat</td>\n",
       "      <td>oral</td>\n",
       "      <td>1.8</td>\n",
       "      <td>mg/kg-day</td>\n",
       "    </tr>\n",
       "    <tr>\n",
       "      <th>3</th>\n",
       "      <td>COCCO</td>\n",
       "      <td>Mouse</td>\n",
       "      <td>oral</td>\n",
       "      <td>250.0</td>\n",
       "      <td>mg/kg-day</td>\n",
       "    </tr>\n",
       "    <tr>\n",
       "      <th>4</th>\n",
       "      <td>[O-]S(=O)(=O)[O-].[O-]S(=O)(=O)[O-].[O-]S(=O)(...</td>\n",
       "      <td>Rat</td>\n",
       "      <td>oral</td>\n",
       "      <td>10265.0</td>\n",
       "      <td>mg/kg-day</td>\n",
       "    </tr>\n",
       "  </tbody>\n",
       "</table>\n",
       "</div>"
      ],
      "text/plain": [
       "                                              smiles Exp. Animal  \\\n",
       "0                                           CCCCOCCO       Mouse   \n",
       "1  [O-]S(=O)(=O)[O-].[O-]S(=O)(=O)[O-].[O-]S(=O)(...         Rat   \n",
       "2                           CCCCCCCC[Sn](=O)CCCCCCCC         Rat   \n",
       "3                                              COCCO       Mouse   \n",
       "4  [O-]S(=O)(=O)[O-].[O-]S(=O)(=O)[O-].[O-]S(=O)(...         Rat   \n",
       "\n",
       "  method of administration    NOAEL NOAEL (a.u)  \n",
       "0                   dermal   1000.0   mg/kg-day  \n",
       "1                     oral  10265.0   mg/kg-day  \n",
       "2                     oral      1.8   mg/kg-day  \n",
       "3                     oral    250.0   mg/kg-day  \n",
       "4                     oral  10265.0   mg/kg-day  "
      ]
     },
     "execution_count": 27,
     "metadata": {},
     "output_type": "execute_result"
    }
   ],
   "source": [
    "NOAEL.head()"
   ]
  },
  {
   "cell_type": "code",
   "execution_count": 28,
   "id": "9ea7665c",
   "metadata": {},
   "outputs": [
    {
     "data": {
      "text/plain": [
       "NOAEL (a.u)\n",
       "mg/kg-day    12353\n",
       "ppm           1268\n",
       "mg/m3          149\n",
       "mg/L           113\n",
       "mg/kg            3\n",
       "Name: NOAEL (a.u), dtype: int64"
      ]
     },
     "execution_count": 28,
     "metadata": {},
     "output_type": "execute_result"
    }
   ],
   "source": [
    "NOAEL.groupby('NOAEL (a.u)')['NOAEL (a.u)'].count().sort_values(ascending = False)"
   ]
  },
  {
   "cell_type": "markdown",
   "id": "504cde70",
   "metadata": {},
   "source": [
    "Плотность вещества: 1 ppm = 1 mg/kg"
   ]
  },
  {
   "cell_type": "code",
   "execution_count": 29,
   "id": "cef99459",
   "metadata": {},
   "outputs": [],
   "source": [
    "for index, row in NOAEL.iterrows():\n",
    "    if 'mg/kg-day' in row['NOAEL (a.u)']:\n",
    "        NOAEL.at[index, 'NOAEL (a.u)'] = row['NOAEL (a.u)'].replace('mg/kg-day', 'mg.kg-1')\n",
    "    elif 'mg/kg' in row['NOAEL (a.u)']:\n",
    "        NOAEL.at[index, 'NOAEL (a.u)'] = row['NOAEL (a.u)'].replace('mg/kg', 'mg.kg-1')\n",
    "    elif 'ppm' in row['NOAEL (a.u)']:\n",
    "        NOAEL.at[index, 'NOAEL (a.u)'] = row['NOAEL (a.u)'].replace('ppm', 'mg.kg-1')\n",
    "    elif 'mg/L' in row['NOAEL (a.u)']:\n",
    "        NOAEL.at[index, 'NOAEL (a.u)'] = row['NOAEL (a.u)'].replace('mg/L', 'mg.L')\n"
   ]
  },
  {
   "cell_type": "code",
   "execution_count": 30,
   "id": "4efa045d",
   "metadata": {},
   "outputs": [],
   "source": [
    "NOAEL = NOAEL[~NOAEL['NOAEL (a.u)'].isin(['mg/m3'])]"
   ]
  },
  {
   "cell_type": "code",
   "execution_count": 31,
   "id": "0a9e3974",
   "metadata": {},
   "outputs": [
    {
     "data": {
      "text/plain": [
       "NOAEL (a.u)\n",
       "mg.kg-1    13624\n",
       "mg.L         113\n",
       "Name: NOAEL (a.u), dtype: int64"
      ]
     },
     "execution_count": 31,
     "metadata": {},
     "output_type": "execute_result"
    }
   ],
   "source": [
    "NOAEL.groupby('NOAEL (a.u)')['NOAEL (a.u)'].count().sort_values(ascending = False)"
   ]
  },
  {
   "cell_type": "code",
   "execution_count": 32,
   "id": "15e7bfc6",
   "metadata": {},
   "outputs": [
    {
     "data": {
      "text/html": [
       "<div>\n",
       "<style scoped>\n",
       "    .dataframe tbody tr th:only-of-type {\n",
       "        vertical-align: middle;\n",
       "    }\n",
       "\n",
       "    .dataframe tbody tr th {\n",
       "        vertical-align: top;\n",
       "    }\n",
       "\n",
       "    .dataframe thead th {\n",
       "        text-align: right;\n",
       "    }\n",
       "</style>\n",
       "<table border=\"1\" class=\"dataframe\">\n",
       "  <thead>\n",
       "    <tr style=\"text-align: right;\">\n",
       "      <th></th>\n",
       "      <th>smiles</th>\n",
       "      <th>Exp. Animal</th>\n",
       "      <th>method of administration</th>\n",
       "      <th>LD_50</th>\n",
       "      <th>LD_50 (a.u)</th>\n",
       "    </tr>\n",
       "  </thead>\n",
       "  <tbody>\n",
       "    <tr>\n",
       "      <th>0</th>\n",
       "      <td>C(CC(O)(P(=O)(O)O)P(=O)(O)[O-])CN.[Na+]</td>\n",
       "      <td>Rat</td>\n",
       "      <td>oral</td>\n",
       "      <td>552.00</td>\n",
       "      <td>mg.kg-1</td>\n",
       "    </tr>\n",
       "    <tr>\n",
       "      <th>1</th>\n",
       "      <td>CCN(CC)CC#CC(C)(C)OC(=O)C(C1CCCCC1)(C2=CC=CC=C...</td>\n",
       "      <td>Rat</td>\n",
       "      <td>oral</td>\n",
       "      <td>735.00</td>\n",
       "      <td>mg.kg-1</td>\n",
       "    </tr>\n",
       "    <tr>\n",
       "      <th>2</th>\n",
       "      <td>CC(C)OC(=O)CCCC=CCC1C(CC(C1CCC(CCC2=CC=CC=C2)O...</td>\n",
       "      <td>Rat</td>\n",
       "      <td>oral</td>\n",
       "      <td>0.05</td>\n",
       "      <td>mg.kg-1</td>\n",
       "    </tr>\n",
       "    <tr>\n",
       "      <th>3</th>\n",
       "      <td>CCCCCCCCCCCCCCCCNP1(=S)OCC2=C(O1)C=CC(=C2)[N+]...</td>\n",
       "      <td>Rat</td>\n",
       "      <td>oral</td>\n",
       "      <td>250.00</td>\n",
       "      <td>mg.kg-1</td>\n",
       "    </tr>\n",
       "    <tr>\n",
       "      <th>4</th>\n",
       "      <td>CCCCCCCCCCCCCCCNP1(=S)OCC2=C(O1)C=CC(=C2)[N+](...</td>\n",
       "      <td>Rat</td>\n",
       "      <td>oral</td>\n",
       "      <td>250.00</td>\n",
       "      <td>mg.kg-1</td>\n",
       "    </tr>\n",
       "  </tbody>\n",
       "</table>\n",
       "</div>"
      ],
      "text/plain": [
       "                                              smiles Exp. Animal  \\\n",
       "0            C(CC(O)(P(=O)(O)O)P(=O)(O)[O-])CN.[Na+]         Rat   \n",
       "1  CCN(CC)CC#CC(C)(C)OC(=O)C(C1CCCCC1)(C2=CC=CC=C...         Rat   \n",
       "2  CC(C)OC(=O)CCCC=CCC1C(CC(C1CCC(CCC2=CC=CC=C2)O...         Rat   \n",
       "3  CCCCCCCCCCCCCCCCNP1(=S)OCC2=C(O1)C=CC(=C2)[N+]...         Rat   \n",
       "4  CCCCCCCCCCCCCCCNP1(=S)OCC2=C(O1)C=CC(=C2)[N+](...         Rat   \n",
       "\n",
       "  method of administration   LD_50 LD_50 (a.u)  \n",
       "0                     oral  552.00     mg.kg-1  \n",
       "1                     oral  735.00     mg.kg-1  \n",
       "2                     oral    0.05     mg.kg-1  \n",
       "3                     oral  250.00     mg.kg-1  \n",
       "4                     oral  250.00     mg.kg-1  "
      ]
     },
     "execution_count": 32,
     "metadata": {},
     "output_type": "execute_result"
    }
   ],
   "source": [
    "LD_50.head()"
   ]
  },
  {
   "cell_type": "code",
   "execution_count": 33,
   "id": "15c87ef1",
   "metadata": {},
   "outputs": [
    {
     "data": {
      "text/plain": [
       "(55170, 5)"
      ]
     },
     "execution_count": 33,
     "metadata": {},
     "output_type": "execute_result"
    }
   ],
   "source": [
    "LD_50.shape"
   ]
  },
  {
   "cell_type": "code",
   "execution_count": 34,
   "id": "2cf9bf8e",
   "metadata": {},
   "outputs": [
    {
     "data": {
      "text/html": [
       "<div>\n",
       "<style scoped>\n",
       "    .dataframe tbody tr th:only-of-type {\n",
       "        vertical-align: middle;\n",
       "    }\n",
       "\n",
       "    .dataframe tbody tr th {\n",
       "        vertical-align: top;\n",
       "    }\n",
       "\n",
       "    .dataframe thead th {\n",
       "        text-align: right;\n",
       "    }\n",
       "</style>\n",
       "<table border=\"1\" class=\"dataframe\">\n",
       "  <thead>\n",
       "    <tr style=\"text-align: right;\">\n",
       "      <th></th>\n",
       "      <th>smiles</th>\n",
       "      <th>Exp. Animal</th>\n",
       "      <th>method of administration</th>\n",
       "      <th>LC_50</th>\n",
       "      <th>LC_50 (a.u)</th>\n",
       "    </tr>\n",
       "  </thead>\n",
       "  <tbody>\n",
       "    <tr>\n",
       "      <th>0</th>\n",
       "      <td>C=O</td>\n",
       "      <td>Mouse</td>\n",
       "      <td>inhalation</td>\n",
       "      <td>454.0000</td>\n",
       "      <td>mg.L</td>\n",
       "    </tr>\n",
       "    <tr>\n",
       "      <th>1</th>\n",
       "      <td>C=O</td>\n",
       "      <td>Rat</td>\n",
       "      <td>inhalation</td>\n",
       "      <td>0.2030</td>\n",
       "      <td>mg.L</td>\n",
       "    </tr>\n",
       "    <tr>\n",
       "      <th>2</th>\n",
       "      <td>CN(C)CCCN1C2=CC=CC=C2SC3=C1C=C(C=C3)Cl</td>\n",
       "      <td>Mouse</td>\n",
       "      <td>inhalation</td>\n",
       "      <td>0.1045</td>\n",
       "      <td>mg.L</td>\n",
       "    </tr>\n",
       "    <tr>\n",
       "      <th>3</th>\n",
       "      <td>CN(C)CCCN1C2=CC=CC=C2SC3=C1C=C(C=C3)Cl</td>\n",
       "      <td>Rat</td>\n",
       "      <td>inhalation</td>\n",
       "      <td>0.1045</td>\n",
       "      <td>mg.L</td>\n",
       "    </tr>\n",
       "    <tr>\n",
       "      <th>4</th>\n",
       "      <td>CC(C)NCC(C1=CC(=C(C=C1)O)O)O.Cl</td>\n",
       "      <td>Mouse</td>\n",
       "      <td>inhalation</td>\n",
       "      <td>10.0000</td>\n",
       "      <td>mg.L</td>\n",
       "    </tr>\n",
       "  </tbody>\n",
       "</table>\n",
       "</div>"
      ],
      "text/plain": [
       "                                   smiles Exp. Animal  \\\n",
       "0                                     C=O       Mouse   \n",
       "1                                     C=O         Rat   \n",
       "2  CN(C)CCCN1C2=CC=CC=C2SC3=C1C=C(C=C3)Cl       Mouse   \n",
       "3  CN(C)CCCN1C2=CC=CC=C2SC3=C1C=C(C=C3)Cl         Rat   \n",
       "4         CC(C)NCC(C1=CC(=C(C=C1)O)O)O.Cl       Mouse   \n",
       "\n",
       "  method of administration     LC_50 LC_50 (a.u)  \n",
       "0               inhalation  454.0000        mg.L  \n",
       "1               inhalation    0.2030        mg.L  \n",
       "2               inhalation    0.1045        mg.L  \n",
       "3               inhalation    0.1045        mg.L  \n",
       "4               inhalation   10.0000        mg.L  "
      ]
     },
     "execution_count": 34,
     "metadata": {},
     "output_type": "execute_result"
    }
   ],
   "source": [
    "LC_50.head()"
   ]
  },
  {
   "cell_type": "code",
   "execution_count": 35,
   "id": "8bd5ee07",
   "metadata": {},
   "outputs": [
    {
     "data": {
      "text/html": [
       "<div>\n",
       "<style scoped>\n",
       "    .dataframe tbody tr th:only-of-type {\n",
       "        vertical-align: middle;\n",
       "    }\n",
       "\n",
       "    .dataframe tbody tr th {\n",
       "        vertical-align: top;\n",
       "    }\n",
       "\n",
       "    .dataframe thead th {\n",
       "        text-align: right;\n",
       "    }\n",
       "</style>\n",
       "<table border=\"1\" class=\"dataframe\">\n",
       "  <thead>\n",
       "    <tr style=\"text-align: right;\">\n",
       "      <th></th>\n",
       "      <th>smiles</th>\n",
       "      <th>Exp. Animal</th>\n",
       "      <th>method of administration</th>\n",
       "      <th>NOAEL</th>\n",
       "      <th>NOAEL (a.u)</th>\n",
       "    </tr>\n",
       "  </thead>\n",
       "  <tbody>\n",
       "    <tr>\n",
       "      <th>0</th>\n",
       "      <td>CCCCOCCO</td>\n",
       "      <td>Mouse</td>\n",
       "      <td>dermal</td>\n",
       "      <td>1000.0</td>\n",
       "      <td>mg.kg-1</td>\n",
       "    </tr>\n",
       "    <tr>\n",
       "      <th>1</th>\n",
       "      <td>[O-]S(=O)(=O)[O-].[O-]S(=O)(=O)[O-].[O-]S(=O)(...</td>\n",
       "      <td>Rat</td>\n",
       "      <td>oral</td>\n",
       "      <td>10265.0</td>\n",
       "      <td>mg.kg-1</td>\n",
       "    </tr>\n",
       "    <tr>\n",
       "      <th>2</th>\n",
       "      <td>CCCCCCCC[Sn](=O)CCCCCCCC</td>\n",
       "      <td>Rat</td>\n",
       "      <td>oral</td>\n",
       "      <td>1.8</td>\n",
       "      <td>mg.kg-1</td>\n",
       "    </tr>\n",
       "    <tr>\n",
       "      <th>3</th>\n",
       "      <td>COCCO</td>\n",
       "      <td>Mouse</td>\n",
       "      <td>oral</td>\n",
       "      <td>250.0</td>\n",
       "      <td>mg.kg-1</td>\n",
       "    </tr>\n",
       "    <tr>\n",
       "      <th>4</th>\n",
       "      <td>[O-]S(=O)(=O)[O-].[O-]S(=O)(=O)[O-].[O-]S(=O)(...</td>\n",
       "      <td>Rat</td>\n",
       "      <td>oral</td>\n",
       "      <td>10265.0</td>\n",
       "      <td>mg.kg-1</td>\n",
       "    </tr>\n",
       "  </tbody>\n",
       "</table>\n",
       "</div>"
      ],
      "text/plain": [
       "                                              smiles Exp. Animal  \\\n",
       "0                                           CCCCOCCO       Mouse   \n",
       "1  [O-]S(=O)(=O)[O-].[O-]S(=O)(=O)[O-].[O-]S(=O)(...         Rat   \n",
       "2                           CCCCCCCC[Sn](=O)CCCCCCCC         Rat   \n",
       "3                                              COCCO       Mouse   \n",
       "4  [O-]S(=O)(=O)[O-].[O-]S(=O)(=O)[O-].[O-]S(=O)(...         Rat   \n",
       "\n",
       "  method of administration    NOAEL NOAEL (a.u)  \n",
       "0                   dermal   1000.0     mg.kg-1  \n",
       "1                     oral  10265.0     mg.kg-1  \n",
       "2                     oral      1.8     mg.kg-1  \n",
       "3                     oral    250.0     mg.kg-1  \n",
       "4                     oral  10265.0     mg.kg-1  "
      ]
     },
     "execution_count": 35,
     "metadata": {},
     "output_type": "execute_result"
    }
   ],
   "source": [
    "NOAEL.head()"
   ]
  },
  {
   "cell_type": "code",
   "execution_count": 36,
   "id": "1f41362f",
   "metadata": {},
   "outputs": [
    {
     "data": {
      "text/html": [
       "<div>\n",
       "<style scoped>\n",
       "    .dataframe tbody tr th:only-of-type {\n",
       "        vertical-align: middle;\n",
       "    }\n",
       "\n",
       "    .dataframe tbody tr th {\n",
       "        vertical-align: top;\n",
       "    }\n",
       "\n",
       "    .dataframe thead th {\n",
       "        text-align: right;\n",
       "    }\n",
       "</style>\n",
       "<table border=\"1\" class=\"dataframe\">\n",
       "  <thead>\n",
       "    <tr style=\"text-align: right;\">\n",
       "      <th></th>\n",
       "      <th>smiles</th>\n",
       "      <th>method of administration</th>\n",
       "      <th>Exp. Animal</th>\n",
       "      <th>LC_50</th>\n",
       "      <th>LC_50 (a.u)</th>\n",
       "    </tr>\n",
       "  </thead>\n",
       "  <tbody>\n",
       "    <tr>\n",
       "      <th>0</th>\n",
       "      <td>B(F)(F)F</td>\n",
       "      <td>inhalation</td>\n",
       "      <td>Guinea Pig</td>\n",
       "      <td>0.109</td>\n",
       "      <td>mg.L</td>\n",
       "    </tr>\n",
       "    <tr>\n",
       "      <th>1</th>\n",
       "      <td>B(F)(F)F</td>\n",
       "      <td>inhalation</td>\n",
       "      <td>Mouse</td>\n",
       "      <td>1.730</td>\n",
       "      <td>mg.L</td>\n",
       "    </tr>\n",
       "    <tr>\n",
       "      <th>2</th>\n",
       "      <td>B(F)(F)F</td>\n",
       "      <td>inhalation</td>\n",
       "      <td>Rat</td>\n",
       "      <td>1.180</td>\n",
       "      <td>mg.L</td>\n",
       "    </tr>\n",
       "    <tr>\n",
       "      <th>3</th>\n",
       "      <td>B(F)(F)F.O.O</td>\n",
       "      <td>inhalation</td>\n",
       "      <td>Rat</td>\n",
       "      <td>1.210</td>\n",
       "      <td>mg.L</td>\n",
       "    </tr>\n",
       "    <tr>\n",
       "      <th>4</th>\n",
       "      <td>B1=BB=BB=BC=CB=BB=B1</td>\n",
       "      <td>inhalation</td>\n",
       "      <td>Mouse</td>\n",
       "      <td>0.170</td>\n",
       "      <td>mg.L</td>\n",
       "    </tr>\n",
       "  </tbody>\n",
       "</table>\n",
       "</div>"
      ],
      "text/plain": [
       "                 smiles method of administration Exp. Animal  LC_50  \\\n",
       "0              B(F)(F)F               inhalation  Guinea Pig  0.109   \n",
       "1              B(F)(F)F               inhalation       Mouse  1.730   \n",
       "2              B(F)(F)F               inhalation         Rat  1.180   \n",
       "3          B(F)(F)F.O.O               inhalation         Rat  1.210   \n",
       "4  B1=BB=BB=BC=CB=BB=B1               inhalation       Mouse  0.170   \n",
       "\n",
       "  LC_50 (a.u)  \n",
       "0        mg.L  \n",
       "1        mg.L  \n",
       "2        mg.L  \n",
       "3        mg.L  \n",
       "4        mg.L  "
      ]
     },
     "execution_count": 36,
     "metadata": {},
     "output_type": "execute_result"
    }
   ],
   "source": [
    "df_1 = LC_50.groupby(by=['smiles', 'method of administration', 'Exp. Animal']).agg({'LC_50' : 'mean', 'LC_50 (a.u)': 'first'}).reset_index()\n",
    "df_1.head()"
   ]
  },
  {
   "cell_type": "code",
   "execution_count": 37,
   "id": "d5cc8429",
   "metadata": {},
   "outputs": [
    {
     "data": {
      "text/html": [
       "<div>\n",
       "<style scoped>\n",
       "    .dataframe tbody tr th:only-of-type {\n",
       "        vertical-align: middle;\n",
       "    }\n",
       "\n",
       "    .dataframe tbody tr th {\n",
       "        vertical-align: top;\n",
       "    }\n",
       "\n",
       "    .dataframe thead th {\n",
       "        text-align: right;\n",
       "    }\n",
       "</style>\n",
       "<table border=\"1\" class=\"dataframe\">\n",
       "  <thead>\n",
       "    <tr style=\"text-align: right;\">\n",
       "      <th></th>\n",
       "      <th>smiles</th>\n",
       "      <th>method of administration</th>\n",
       "      <th>Exp. Animal</th>\n",
       "      <th>LD_50</th>\n",
       "      <th>LD_50 (a.u)</th>\n",
       "    </tr>\n",
       "  </thead>\n",
       "  <tbody>\n",
       "    <tr>\n",
       "      <th>0</th>\n",
       "      <td>B(=O)OB1OB2OB(OB(OB(O2)OB(O1)OB=O)[O-])[O-].[N...</td>\n",
       "      <td>oral</td>\n",
       "      <td>Guinea Pig</td>\n",
       "      <td>5300.0</td>\n",
       "      <td>mg.kg-1</td>\n",
       "    </tr>\n",
       "    <tr>\n",
       "      <th>1</th>\n",
       "      <td>B(=O)OB1OB2OB(OB(OB(O2)OB(O1)OB=O)[O-])[O-].[N...</td>\n",
       "      <td>oral</td>\n",
       "      <td>Rat</td>\n",
       "      <td>2000.0</td>\n",
       "      <td>mg.kg-1</td>\n",
       "    </tr>\n",
       "    <tr>\n",
       "      <th>2</th>\n",
       "      <td>B(=O)OB=O</td>\n",
       "      <td>oral</td>\n",
       "      <td>Mouse</td>\n",
       "      <td>3163.0</td>\n",
       "      <td>mg.kg-1</td>\n",
       "    </tr>\n",
       "    <tr>\n",
       "      <th>3</th>\n",
       "      <td>B(=O)O[O-].[Na+]</td>\n",
       "      <td>oral</td>\n",
       "      <td>Mouse</td>\n",
       "      <td>3250.0</td>\n",
       "      <td>mg.kg-1</td>\n",
       "    </tr>\n",
       "    <tr>\n",
       "      <th>4</th>\n",
       "      <td>B(=O)[O-].[Na+]</td>\n",
       "      <td>oral</td>\n",
       "      <td>Rat</td>\n",
       "      <td>2330.0</td>\n",
       "      <td>mg.kg-1</td>\n",
       "    </tr>\n",
       "  </tbody>\n",
       "</table>\n",
       "</div>"
      ],
      "text/plain": [
       "                                              smiles method of administration  \\\n",
       "0  B(=O)OB1OB2OB(OB(OB(O2)OB(O1)OB=O)[O-])[O-].[N...                     oral   \n",
       "1  B(=O)OB1OB2OB(OB(OB(O2)OB(O1)OB=O)[O-])[O-].[N...                     oral   \n",
       "2                                          B(=O)OB=O                     oral   \n",
       "3                                   B(=O)O[O-].[Na+]                     oral   \n",
       "4                                    B(=O)[O-].[Na+]                     oral   \n",
       "\n",
       "  Exp. Animal   LD_50 LD_50 (a.u)  \n",
       "0  Guinea Pig  5300.0     mg.kg-1  \n",
       "1         Rat  2000.0     mg.kg-1  \n",
       "2       Mouse  3163.0     mg.kg-1  \n",
       "3       Mouse  3250.0     mg.kg-1  \n",
       "4         Rat  2330.0     mg.kg-1  "
      ]
     },
     "execution_count": 37,
     "metadata": {},
     "output_type": "execute_result"
    }
   ],
   "source": [
    "df_2 = LD_50.groupby(by=['smiles', 'method of administration', 'Exp. Animal']).agg({'LD_50' : 'mean', 'LD_50 (a.u)': 'first'}).reset_index()\n",
    "df_2.head()"
   ]
  },
  {
   "cell_type": "code",
   "execution_count": 38,
   "id": "4bf57fb2",
   "metadata": {},
   "outputs": [
    {
     "data": {
      "text/html": [
       "<div>\n",
       "<style scoped>\n",
       "    .dataframe tbody tr th:only-of-type {\n",
       "        vertical-align: middle;\n",
       "    }\n",
       "\n",
       "    .dataframe tbody tr th {\n",
       "        vertical-align: top;\n",
       "    }\n",
       "\n",
       "    .dataframe thead th {\n",
       "        text-align: right;\n",
       "    }\n",
       "</style>\n",
       "<table border=\"1\" class=\"dataframe\">\n",
       "  <thead>\n",
       "    <tr style=\"text-align: right;\">\n",
       "      <th></th>\n",
       "      <th>smiles</th>\n",
       "      <th>method of administration</th>\n",
       "      <th>Exp. Animal</th>\n",
       "      <th>NOAEL</th>\n",
       "      <th>NOAEL (a.u)</th>\n",
       "    </tr>\n",
       "  </thead>\n",
       "  <tbody>\n",
       "    <tr>\n",
       "      <th>0</th>\n",
       "      <td>B(=O)OB1OB2OB(OB(OB(O2)OB(O1)OB=O)[O-])[O-].[N...</td>\n",
       "      <td>oral</td>\n",
       "      <td>Mouse</td>\n",
       "      <td>27.00</td>\n",
       "      <td>mg.kg-1</td>\n",
       "    </tr>\n",
       "    <tr>\n",
       "      <th>1</th>\n",
       "      <td>B(=O)OB1OB2OB(OB(OB(O2)OB(O1)OB=O)[O-])[O-].[N...</td>\n",
       "      <td>oral</td>\n",
       "      <td>Rat</td>\n",
       "      <td>82.35</td>\n",
       "      <td>mg.kg-1</td>\n",
       "    </tr>\n",
       "    <tr>\n",
       "      <th>2</th>\n",
       "      <td>B(=O)[O-].[Na+]</td>\n",
       "      <td>oral</td>\n",
       "      <td>Mouse</td>\n",
       "      <td>27.00</td>\n",
       "      <td>mg.kg-1</td>\n",
       "    </tr>\n",
       "    <tr>\n",
       "      <th>3</th>\n",
       "      <td>B(=O)[O-].[Na+]</td>\n",
       "      <td>oral</td>\n",
       "      <td>Rat</td>\n",
       "      <td>82.35</td>\n",
       "      <td>mg.kg-1</td>\n",
       "    </tr>\n",
       "    <tr>\n",
       "      <th>4</th>\n",
       "      <td>B(CC)(CC)OC</td>\n",
       "      <td>oral</td>\n",
       "      <td>Rat</td>\n",
       "      <td>15.00</td>\n",
       "      <td>mg.kg-1</td>\n",
       "    </tr>\n",
       "  </tbody>\n",
       "</table>\n",
       "</div>"
      ],
      "text/plain": [
       "                                              smiles method of administration  \\\n",
       "0  B(=O)OB1OB2OB(OB(OB(O2)OB(O1)OB=O)[O-])[O-].[N...                     oral   \n",
       "1  B(=O)OB1OB2OB(OB(OB(O2)OB(O1)OB=O)[O-])[O-].[N...                     oral   \n",
       "2                                    B(=O)[O-].[Na+]                     oral   \n",
       "3                                    B(=O)[O-].[Na+]                     oral   \n",
       "4                                        B(CC)(CC)OC                     oral   \n",
       "\n",
       "  Exp. Animal  NOAEL NOAEL (a.u)  \n",
       "0       Mouse  27.00     mg.kg-1  \n",
       "1         Rat  82.35     mg.kg-1  \n",
       "2       Mouse  27.00     mg.kg-1  \n",
       "3         Rat  82.35     mg.kg-1  \n",
       "4         Rat  15.00     mg.kg-1  "
      ]
     },
     "execution_count": 38,
     "metadata": {},
     "output_type": "execute_result"
    }
   ],
   "source": [
    "df_3 = NOAEL.groupby(by=['smiles', 'method of administration', 'Exp. Animal']).agg({'NOAEL' : 'mean', 'NOAEL (a.u)': 'first'}).reset_index()\n",
    "df_3.head()"
   ]
  },
  {
   "cell_type": "code",
   "execution_count": 39,
   "id": "60a1df0d",
   "metadata": {},
   "outputs": [],
   "source": [
    "df_merged = pd.merge(df_1, df_2, on = ['smiles', 'Exp. Animal', 'method of administration'], how = 'outer')"
   ]
  },
  {
   "cell_type": "code",
   "execution_count": 40,
   "id": "d853851e",
   "metadata": {},
   "outputs": [],
   "source": [
    "toxval_df = pd.merge(df_merged, df_3, on = ['smiles', 'Exp. Animal', 'method of administration'], how = 'outer')"
   ]
  },
  {
   "cell_type": "code",
   "execution_count": 42,
   "id": "6fcdd72f",
   "metadata": {},
   "outputs": [
    {
     "data": {
      "text/plain": [
       "(44603, 9)"
      ]
     },
     "execution_count": 42,
     "metadata": {},
     "output_type": "execute_result"
    }
   ],
   "source": [
    "toxval_df.shape"
   ]
  },
  {
   "cell_type": "code",
   "execution_count": 44,
   "id": "fb49d1bb",
   "metadata": {},
   "outputs": [
    {
     "data": {
      "text/html": [
       "<div>\n",
       "<style scoped>\n",
       "    .dataframe tbody tr th:only-of-type {\n",
       "        vertical-align: middle;\n",
       "    }\n",
       "\n",
       "    .dataframe tbody tr th {\n",
       "        vertical-align: top;\n",
       "    }\n",
       "\n",
       "    .dataframe thead th {\n",
       "        text-align: right;\n",
       "    }\n",
       "</style>\n",
       "<table border=\"1\" class=\"dataframe\">\n",
       "  <thead>\n",
       "    <tr style=\"text-align: right;\">\n",
       "      <th></th>\n",
       "      <th>smiles</th>\n",
       "      <th>method of administration</th>\n",
       "      <th>Exp. Animal</th>\n",
       "      <th>LC_50</th>\n",
       "      <th>LC_50 (a.u)</th>\n",
       "      <th>LD_50</th>\n",
       "      <th>LD_50 (a.u)</th>\n",
       "      <th>NOAEL</th>\n",
       "      <th>NOAEL (a.u)</th>\n",
       "    </tr>\n",
       "  </thead>\n",
       "  <tbody>\n",
       "    <tr>\n",
       "      <th>0</th>\n",
       "      <td>B(F)(F)F</td>\n",
       "      <td>inhalation</td>\n",
       "      <td>Guinea Pig</td>\n",
       "      <td>0.109</td>\n",
       "      <td>mg.L</td>\n",
       "      <td>NaN</td>\n",
       "      <td>NaN</td>\n",
       "      <td>NaN</td>\n",
       "      <td>NaN</td>\n",
       "    </tr>\n",
       "    <tr>\n",
       "      <th>1</th>\n",
       "      <td>B(F)(F)F</td>\n",
       "      <td>inhalation</td>\n",
       "      <td>Mouse</td>\n",
       "      <td>1.730</td>\n",
       "      <td>mg.L</td>\n",
       "      <td>NaN</td>\n",
       "      <td>NaN</td>\n",
       "      <td>NaN</td>\n",
       "      <td>NaN</td>\n",
       "    </tr>\n",
       "    <tr>\n",
       "      <th>2</th>\n",
       "      <td>B(F)(F)F</td>\n",
       "      <td>inhalation</td>\n",
       "      <td>Rat</td>\n",
       "      <td>1.180</td>\n",
       "      <td>mg.L</td>\n",
       "      <td>NaN</td>\n",
       "      <td>NaN</td>\n",
       "      <td>NaN</td>\n",
       "      <td>NaN</td>\n",
       "    </tr>\n",
       "    <tr>\n",
       "      <th>3</th>\n",
       "      <td>B(F)(F)F.O.O</td>\n",
       "      <td>inhalation</td>\n",
       "      <td>Rat</td>\n",
       "      <td>1.210</td>\n",
       "      <td>mg.L</td>\n",
       "      <td>NaN</td>\n",
       "      <td>NaN</td>\n",
       "      <td>NaN</td>\n",
       "      <td>NaN</td>\n",
       "    </tr>\n",
       "    <tr>\n",
       "      <th>4</th>\n",
       "      <td>B1=BB=BB=BC=CB=BB=B1</td>\n",
       "      <td>inhalation</td>\n",
       "      <td>Mouse</td>\n",
       "      <td>0.170</td>\n",
       "      <td>mg.L</td>\n",
       "      <td>NaN</td>\n",
       "      <td>NaN</td>\n",
       "      <td>NaN</td>\n",
       "      <td>NaN</td>\n",
       "    </tr>\n",
       "  </tbody>\n",
       "</table>\n",
       "</div>"
      ],
      "text/plain": [
       "                 smiles method of administration Exp. Animal  LC_50  \\\n",
       "0              B(F)(F)F               inhalation  Guinea Pig  0.109   \n",
       "1              B(F)(F)F               inhalation       Mouse  1.730   \n",
       "2              B(F)(F)F               inhalation         Rat  1.180   \n",
       "3          B(F)(F)F.O.O               inhalation         Rat  1.210   \n",
       "4  B1=BB=BB=BC=CB=BB=B1               inhalation       Mouse  0.170   \n",
       "\n",
       "  LC_50 (a.u)  LD_50 LD_50 (a.u)  NOAEL NOAEL (a.u)  \n",
       "0        mg.L    NaN         NaN    NaN         NaN  \n",
       "1        mg.L    NaN         NaN    NaN         NaN  \n",
       "2        mg.L    NaN         NaN    NaN         NaN  \n",
       "3        mg.L    NaN         NaN    NaN         NaN  \n",
       "4        mg.L    NaN         NaN    NaN         NaN  "
      ]
     },
     "execution_count": 44,
     "metadata": {},
     "output_type": "execute_result"
    }
   ],
   "source": [
    "toxval_df.head()"
   ]
  },
  {
   "cell_type": "code",
   "execution_count": 43,
   "id": "f5a1f206",
   "metadata": {},
   "outputs": [],
   "source": [
    "toxval_df.to_csv('toxval_df.csv', index = False)"
   ]
  },
  {
   "cell_type": "code",
   "execution_count": null,
   "id": "8c6aa073",
   "metadata": {},
   "outputs": [],
   "source": []
  }
 ],
 "metadata": {
  "kernelspec": {
   "display_name": "Python 3 (ipykernel)",
   "language": "python",
   "name": "python3"
  },
  "language_info": {
   "codemirror_mode": {
    "name": "ipython",
    "version": 3
   },
   "file_extension": ".py",
   "mimetype": "text/x-python",
   "name": "python",
   "nbconvert_exporter": "python",
   "pygments_lexer": "ipython3",
   "version": "3.9.13"
  }
 },
 "nbformat": 4,
 "nbformat_minor": 5
}
