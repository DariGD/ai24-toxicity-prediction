{
  "nbformat": 4,
  "nbformat_minor": 0,
  "metadata": {
    "colab": {
      "provenance": []
    },
    "kernelspec": {
      "name": "python3",
      "display_name": "Python 3"
    },
    "language_info": {
      "name": "python"
    }
  },
  "cells": [
    {
      "cell_type": "code",
      "source": [
        "!pip install rdkit\n",
        "from rdkit import Chem\n",
        "from rdkit.Chem import MACCSkeys\n",
        "def maccs(smile):\n",
        "  mol = Chem.MolFromSmiles(smile)\n",
        "  maccs_keys = MACCSkeys.GenMACCSKeys(mol)\n",
        "  n = maccs_keys.ToBitString()\n",
        "  p = n[1:]\n",
        "  return p\n",
        "\n",
        "\n"
      ],
      "metadata": {
        "id": "070s_NvCLvp4",
        "colab": {
          "base_uri": "https://localhost:8080/"
        },
        "outputId": "915d3979-9d6e-43f5-e725-3699ce189d20"
      },
      "execution_count": null,
      "outputs": [
        {
          "output_type": "stream",
          "name": "stdout",
          "text": [
            "Requirement already satisfied: rdkit in /usr/local/lib/python3.10/dist-packages (2024.3.5)\n",
            "Requirement already satisfied: numpy in /usr/local/lib/python3.10/dist-packages (from rdkit) (1.26.4)\n",
            "Requirement already satisfied: Pillow in /usr/local/lib/python3.10/dist-packages (from rdkit) (10.4.0)\n"
          ]
        }
      ]
    },
    {
      "cell_type": "code",
      "source": [],
      "metadata": {
        "id": "ao3s9WAlD_Sp"
      },
      "execution_count": null,
      "outputs": []
    }
  ]
}